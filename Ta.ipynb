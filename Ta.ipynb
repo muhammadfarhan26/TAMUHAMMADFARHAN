{
  "nbformat": 4,
  "nbformat_minor": 0,
  "metadata": {
    "colab": {
      "name": "Ta baru.ipynb",
      "provenance": [],
      "collapsed_sections": []
    },
    "kernelspec": {
      "display_name": "Python 3",
      "language": "python",
      "name": "python3"
    },
    "language_info": {
      "codemirror_mode": {
        "name": "ipython",
        "version": 3
      },
      "file_extension": ".py",
      "mimetype": "text/x-python",
      "name": "python",
      "nbconvert_exporter": "python",
      "pygments_lexer": "ipython3",
      "version": "3.8.5"
    }
  },
  "cells": [
    {
      "cell_type": "code",
      "metadata": {
        "id": "SdOKOw0fKNsp"
      },
      "source": [
        "import librosa\n",
        "import pandas as pd\n",
        "import numpy as np\n",
        "import librosa.display\n",
        "from matplotlib import pyplot as plt\n",
        "%matplotlib inline\n",
        "import os\n",
        "import csv\n",
        "# Preprocessing\n",
        "from sklearn.model_selection import train_test_split\n",
        "from sklearn.preprocessing import LabelEncoder, StandardScaler\n",
        "#Keras\n",
        "import keras"
      ],
      "execution_count": null,
      "outputs": []
    },
    {
      "cell_type": "code",
      "metadata": {
        "colab": {
          "base_uri": "https://localhost:8080/"
        },
        "id": "vCUNbZJBKdhV",
        "outputId": "e9b25388-9f7d-4e92-e4e0-75607f01bba9"
      },
      "source": [
        "from google.colab import drive\n",
        "drive.mount(\"/content/gdrive\")"
      ],
      "execution_count": null,
      "outputs": [
        {
          "output_type": "stream",
          "name": "stdout",
          "text": [
            "Mounted at /content/gdrive\n"
          ]
        }
      ]
    },
    {
      "cell_type": "code",
      "metadata": {
        "id": "E5Z5tRzw8MzC"
      },
      "source": [
        "!ls \"/content/gdrive/My Drive/Dataset_HVD/\""
      ],
      "execution_count": null,
      "outputs": []
    },
    {
      "cell_type": "markdown",
      "metadata": {
        "id": "ha-SdRBmPA9o"
      },
      "source": [
        "#Ekstraksi Fitur MFCC"
      ]
    },
    {
      "cell_type": "code",
      "metadata": {
        "id": "sRZwWTQlLsdM"
      },
      "source": [
        "import librosa\n",
        "audio_path1 = \"/content/gdrive/My Drive/Dataset_HVD/AS/New_AS_001.wav\"\n",
        "audio_path2 = \"/content/gdrive/My Drive/Dataset_HVD/MR/New_MR_001.wav\"\n",
        "audio_path3 = \"/content/gdrive/My Drive/Dataset_HVD/MVP/New_MVP_001.wav\"\n",
        "audio_path4 = \"/content/gdrive/My Drive/Dataset_HVD/MS/New_MS_001.wav\"\n",
        "audio_path5 = \"/content/gdrive/My Drive/Dataset_HVD/N/New_N_001.wav\"\n",
        "x1 , sr = librosa.load(audio_path1)\n",
        "x2 , sr = librosa.load(audio_path2)\n",
        "x3 , sr = librosa.load(audio_path3)\n",
        "x4 , sr = librosa.load(audio_path4)\n",
        "x5 , sr = librosa.load(audio_path5)\n",
        "audio_path11 = \"/content/gdrive/My Drive/Dataset_HVD/AS/New_AS_002.wav\"\n",
        "audio_path21 = \"/content/gdrive/My Drive/Dataset_HVD/MR/New_MR_002.wav\"\n",
        "audio_path31 = \"/content/gdrive/My Drive/Dataset_HVD/MVP/New_MVP_002.wav\"\n",
        "audio_path41 = \"/content/gdrive/My Drive/Dataset_HVD/MS/New_MS_002.wav\"\n",
        "audio_path51 = \"/content/gdrive/My Drive/Dataset_HVD/N/New_N_002.wav\"\n",
        "x11 , sr = librosa.load(audio_path11)\n",
        "x21 , sr = librosa.load(audio_path21)\n",
        "x31 , sr = librosa.load(audio_path31)\n",
        "x41 , sr = librosa.load(audio_path41)\n",
        "x51 , sr = librosa.load(audio_path51)\n",
        "\n",
        "print(type(x1), type(sr))\n",
        "print(type(x2), type(sr))"
      ],
      "execution_count": null,
      "outputs": []
    },
    {
      "cell_type": "code",
      "metadata": {
        "id": "cqTZ6UNbPqad"
      },
      "source": [
        "librosa.load(audio_path1, sr=8000)\n",
        "librosa.load(audio_path2, sr=8000)\n",
        "librosa.load(audio_path3, sr=8000)\n",
        "librosa.load(audio_path4, sr=8000)\n",
        "librosa.load(audio_path5, sr=8000)"
      ],
      "execution_count": null,
      "outputs": []
    },
    {
      "cell_type": "code",
      "metadata": {
        "id": "CAiCrvIIPybK"
      },
      "source": [
        "import IPython.display as ipd\n",
        "ipd.Audio(audio_path1)#as"
      ],
      "execution_count": null,
      "outputs": []
    },
    {
      "cell_type": "code",
      "metadata": {
        "id": "C4b6LYdjS3aU"
      },
      "source": [
        "import IPython.display as ipd\n",
        "ipd.Audio(audio_path2)#MR"
      ],
      "execution_count": null,
      "outputs": []
    },
    {
      "cell_type": "code",
      "metadata": {
        "id": "e20Y14LJQToc"
      },
      "source": [
        "mfccs = librosa.feature.mfcc(x1, sr=sr)\n",
        "print(mfccs.shape)\n",
        "#Displaying  the MFCCs:\n",
        "librosa.display.specshow(mfccs, sr=sr, x_axis='time' ,y_axis='linear')\n",
        "plt.title('Sinyal AS 1')\n",
        "plt.colorbar()"
      ],
      "execution_count": null,
      "outputs": []
    },
    {
      "cell_type": "code",
      "metadata": {
        "id": "jbWSXR2MOg3N"
      },
      "source": [
        "mfccs = librosa.feature.mfcc(x11, sr=sr)\n",
        "print(mfccs.shape)\n",
        "#Displaying  the MFCCs:\n",
        "librosa.display.specshow(mfccs, sr=sr, x_axis='time', y_axis='linear')\n",
        "plt.title('Sinyal AS 2')\n",
        "plt.colorbar()"
      ],
      "execution_count": null,
      "outputs": []
    },
    {
      "cell_type": "code",
      "metadata": {
        "id": "lmmwS0SqVYNs"
      },
      "source": [
        "mfccs = librosa.feature.mfcc(x2, sr=sr)\n",
        "print(mfccs.shape)\n",
        "#Displaying  the MFCCs:\n",
        "librosa.display.specshow(mfccs, sr=sr, x_axis='time', y_axis='linear')\n",
        "plt.title('Sinyal MR 1')\n",
        "plt.colorbar()"
      ],
      "execution_count": null,
      "outputs": []
    },
    {
      "cell_type": "code",
      "metadata": {
        "id": "Wq1pNOYOOocC"
      },
      "source": [
        "mfccs = librosa.feature.mfcc(x21, sr=sr)\n",
        "print(mfccs.shape)\n",
        "#Displaying  the MFCCs:\n",
        "librosa.display.specshow(mfccs, sr=sr, x_axis='time', y_axis='linear')\n",
        "plt.title('Sinyal MR 2')\n",
        "plt.colorbar()"
      ],
      "execution_count": null,
      "outputs": []
    },
    {
      "cell_type": "code",
      "metadata": {
        "id": "g1or-SlbJ5oZ"
      },
      "source": [
        "mfccs = librosa.feature.mfcc(x3, sr=sr)\n",
        "print(mfccs.shape)\n",
        "#Displaying  the MFCCs:\n",
        "librosa.display.specshow(mfccs, sr=sr, x_axis='time', y_axis='linear')\n",
        "plt.title('Sinyal MVP 1')\n",
        "plt.colorbar()"
      ],
      "execution_count": null,
      "outputs": []
    },
    {
      "cell_type": "code",
      "metadata": {
        "id": "k0rkkzz-OuM8"
      },
      "source": [
        "mfccs = librosa.feature.mfcc(x31, sr=sr)\n",
        "print(mfccs.shape)\n",
        "#Displaying  the MFCCs:\n",
        "librosa.display.specshow(mfccs, sr=sr, x_axis='time', y_axis='linear')\n",
        "plt.title('Sinyal MVP 2')\n",
        "plt.colorbar()"
      ],
      "execution_count": null,
      "outputs": []
    },
    {
      "cell_type": "code",
      "metadata": {
        "id": "7-kKH38jKIbQ"
      },
      "source": [
        "mfccs = librosa.feature.mfcc(x4, sr=sr)\n",
        "print(mfccs.shape)\n",
        "#Displaying  the MFCCs:\n",
        "librosa.display.specshow(mfccs, sr=sr, x_axis='time', y_axis='linear')\n",
        "plt.title('Sinyal MS 1')\n",
        "plt.colorbar()"
      ],
      "execution_count": null,
      "outputs": []
    },
    {
      "cell_type": "code",
      "metadata": {
        "id": "irk-7HfGO98j"
      },
      "source": [
        "mfccs = librosa.feature.mfcc(x41, sr=sr)\n",
        "print(mfccs.shape)\n",
        "#Displaying  the MFCCs:\n",
        "librosa.display.specshow(mfccs, sr=sr, x_axis='time', y_axis='linear')\n",
        "plt.title('Sinyal MS 2')\n",
        "plt.colorbar()"
      ],
      "execution_count": null,
      "outputs": []
    },
    {
      "cell_type": "code",
      "metadata": {
        "id": "tDiWwGylKXNI"
      },
      "source": [
        "mfccs = librosa.feature.mfcc(x5, sr=sr)\n",
        "print(mfccs.shape)\n",
        "#Displaying  the MFCCs:\n",
        "librosa.display.specshow(mfccs, sr=sr, x_axis='time', y_axis='linear')\n",
        "plt.title('Sinyal N 1')\n",
        "plt.colorbar()"
      ],
      "execution_count": null,
      "outputs": []
    },
    {
      "cell_type": "code",
      "metadata": {
        "id": "QhJq7J15PGWh"
      },
      "source": [
        "mfccs = librosa.feature.mfcc(x51, sr=sr)\n",
        "print(mfccs.shape)\n",
        "#Displaying  the MFCCs:\n",
        "librosa.display.specshow(mfccs, sr=sr, x_axis='time', y_axis='linear')\n",
        "plt.title('Sinyal N 2')\n",
        "plt.colorbar()"
      ],
      "execution_count": null,
      "outputs": []
    },
    {
      "cell_type": "markdown",
      "metadata": {
        "id": "MfJgb-J4HDpH"
      },
      "source": [
        "#Membuat dataset"
      ]
    },
    {
      "cell_type": "markdown",
      "metadata": {
        "id": "wJn30ejLHGZ2"
      },
      "source": [
        "ekstraksi fitur kita akan mendapatkan 20 mfcc untuk sampling rate yang diberikan karena dihitung untuk setiap frame sehingga mfcc memiliki 20 kolom."
      ]
    },
    {
      "cell_type": "code",
      "metadata": {
        "id": "mZbr3L5UtWfJ"
      },
      "source": [
        "header = 'filename'\n",
        "for i in range(1, 41):\n",
        "    header += f' mfcc{i}'\n",
        "header += ' label'\n",
        "header = header.split()"
      ],
      "execution_count": null,
      "outputs": []
    },
    {
      "cell_type": "markdown",
      "metadata": {
        "id": "UIQ93nYlHigr"
      },
      "source": [
        "Membuat dataset CSV"
      ]
    },
    {
      "cell_type": "code",
      "metadata": {
        "id": "UlPcFuCXtbK9"
      },
      "source": [
        "'''\n",
        "file = open('data.csv', 'w', newline='')\n",
        "with file:\n",
        "    writer = csv.writer(file)\n",
        "    writer.writerow(header)\n",
        "genres = 'AS MR MVP N MS'.split()\n",
        "for g in genres:\n",
        "    for filename in os.listdir(f'/content/gdrive/My Drive/Dataset_HVD/{g}'):\n",
        "        songname = f'/content/gdrive/My Drive/Dataset_HVD/{g}/{filename}'\n",
        "        y, sr = librosa.load(songname, mono=True, duration=3)\n",
        "        mfcc = librosa.feature.mfcc(y=y, sr=8000)\n",
        "        to_append = f'{filename}'    \n",
        "        for e in mfcc:\n",
        "            to_append += f' {np.mean(e)}'\n",
        "        to_append += f' {g}'\n",
        "        file = open('data.csv', 'a', newline='')\n",
        "        with file:\n",
        "            writer = csv.writer(file)\n",
        "            writer.writerow(to_append.split())\n",
        "'''"
      ],
      "execution_count": null,
      "outputs": []
    },
    {
      "cell_type": "code",
      "metadata": {
        "id": "nR91Mu7cCSJX"
      },
      "source": [
        "file = open('data.csv', 'w', newline='')\n",
        "with file:\n",
        "    writer = csv.writer(file)\n",
        "    writer.writerow(header)\n",
        "genres = 'AS MR MS MVP N'.split()\n",
        "for g in genres:\n",
        "    for filename in os.listdir(f'/content/gdrive/My Drive/Dataset_HVD/{g}'):\n",
        "        signal = f'/content/gdrive/My Drive/Dataset_HVD/{g}/{filename}'\n",
        "        # use kaiser_fast technique for faster extraction\n",
        "        y, sr = librosa.load(signal, mono=True, res_type='kaiser_fast', sr=8000)\n",
        "        mfcc = librosa.feature.mfcc(y=y, sr=8000, n_mfcc=40)\n",
        "        to_append = f'{filename}'  \n",
        "        for e in mfcc:\n",
        "            to_append += f' {np.mean(e.T,axis=0)}'\n",
        "        to_append += f' {g}'\n",
        "        file = open('data.csv', 'a', newline='')\n",
        "        with file:\n",
        "            writer = csv.writer(file)\n",
        "            writer.writerow(to_append.split())"
      ],
      "execution_count": null,
      "outputs": []
    },
    {
      "cell_type": "markdown",
      "metadata": {
        "id": "kzHNgK4FHq9m"
      },
      "source": [
        "menghitung semua fitur menggunakan paket librosa dan telah membuat kumpulan data dengan nama file data.csv dan telah memasukkan semua nilai fitur dari Jenis penyakit VHD yang diberikan di header yang diberikan."
      ]
    },
    {
      "cell_type": "markdown",
      "metadata": {
        "id": "oIk1ApDoH7zp"
      },
      "source": [
        "Membaca dataset"
      ]
    },
    {
      "cell_type": "code",
      "metadata": {
        "id": "1WzAbGvwthqi",
        "colab": {
          "base_uri": "https://localhost:8080/",
          "height": 222
        },
        "outputId": "3cde477b-2ee3-424b-a842-573d98455343"
      },
      "source": [
        "data = pd.read_csv('data.csv')\n",
        "data.head()"
      ],
      "execution_count": null,
      "outputs": [
        {
          "output_type": "execute_result",
          "data": {
            "text/html": [
              "<div>\n",
              "<style scoped>\n",
              "    .dataframe tbody tr th:only-of-type {\n",
              "        vertical-align: middle;\n",
              "    }\n",
              "\n",
              "    .dataframe tbody tr th {\n",
              "        vertical-align: top;\n",
              "    }\n",
              "\n",
              "    .dataframe thead th {\n",
              "        text-align: right;\n",
              "    }\n",
              "</style>\n",
              "<table border=\"1\" class=\"dataframe\">\n",
              "  <thead>\n",
              "    <tr style=\"text-align: right;\">\n",
              "      <th></th>\n",
              "      <th>filename</th>\n",
              "      <th>mfcc1</th>\n",
              "      <th>mfcc2</th>\n",
              "      <th>mfcc3</th>\n",
              "      <th>mfcc4</th>\n",
              "      <th>mfcc5</th>\n",
              "      <th>mfcc6</th>\n",
              "      <th>mfcc7</th>\n",
              "      <th>mfcc8</th>\n",
              "      <th>mfcc9</th>\n",
              "      <th>mfcc10</th>\n",
              "      <th>mfcc11</th>\n",
              "      <th>mfcc12</th>\n",
              "      <th>mfcc13</th>\n",
              "      <th>mfcc14</th>\n",
              "      <th>mfcc15</th>\n",
              "      <th>mfcc16</th>\n",
              "      <th>mfcc17</th>\n",
              "      <th>mfcc18</th>\n",
              "      <th>mfcc19</th>\n",
              "      <th>mfcc20</th>\n",
              "      <th>mfcc21</th>\n",
              "      <th>mfcc22</th>\n",
              "      <th>mfcc23</th>\n",
              "      <th>mfcc24</th>\n",
              "      <th>mfcc25</th>\n",
              "      <th>mfcc26</th>\n",
              "      <th>mfcc27</th>\n",
              "      <th>mfcc28</th>\n",
              "      <th>mfcc29</th>\n",
              "      <th>mfcc30</th>\n",
              "      <th>mfcc31</th>\n",
              "      <th>mfcc32</th>\n",
              "      <th>mfcc33</th>\n",
              "      <th>mfcc34</th>\n",
              "      <th>mfcc35</th>\n",
              "      <th>mfcc36</th>\n",
              "      <th>mfcc37</th>\n",
              "      <th>mfcc38</th>\n",
              "      <th>mfcc39</th>\n",
              "      <th>mfcc40</th>\n",
              "      <th>label</th>\n",
              "    </tr>\n",
              "  </thead>\n",
              "  <tbody>\n",
              "    <tr>\n",
              "      <th>0</th>\n",
              "      <td>New_AS_001.wav</td>\n",
              "      <td>-338.932434</td>\n",
              "      <td>128.745911</td>\n",
              "      <td>69.038406</td>\n",
              "      <td>36.904743</td>\n",
              "      <td>19.021568</td>\n",
              "      <td>15.422963</td>\n",
              "      <td>6.684067</td>\n",
              "      <td>3.380097</td>\n",
              "      <td>-0.144963</td>\n",
              "      <td>-1.777843</td>\n",
              "      <td>-3.210189</td>\n",
              "      <td>-3.010616</td>\n",
              "      <td>-2.083277</td>\n",
              "      <td>-4.072206</td>\n",
              "      <td>-4.549516</td>\n",
              "      <td>-5.435858</td>\n",
              "      <td>-5.539069</td>\n",
              "      <td>-5.607706</td>\n",
              "      <td>-8.046321</td>\n",
              "      <td>-7.612111</td>\n",
              "      <td>-5.243616</td>\n",
              "      <td>-5.874041</td>\n",
              "      <td>-6.067873</td>\n",
              "      <td>-5.592593</td>\n",
              "      <td>-3.646802</td>\n",
              "      <td>-2.900333</td>\n",
              "      <td>-2.976131</td>\n",
              "      <td>-2.810204</td>\n",
              "      <td>-3.587361</td>\n",
              "      <td>-2.338714</td>\n",
              "      <td>-1.910318</td>\n",
              "      <td>-1.835819</td>\n",
              "      <td>-3.639286</td>\n",
              "      <td>-2.336206</td>\n",
              "      <td>-2.146957</td>\n",
              "      <td>-0.969372</td>\n",
              "      <td>-1.198764</td>\n",
              "      <td>-1.802625</td>\n",
              "      <td>-1.031902</td>\n",
              "      <td>-0.665413</td>\n",
              "      <td>AS</td>\n",
              "    </tr>\n",
              "    <tr>\n",
              "      <th>1</th>\n",
              "      <td>New_AS_002.wav</td>\n",
              "      <td>-335.431335</td>\n",
              "      <td>126.407539</td>\n",
              "      <td>67.568985</td>\n",
              "      <td>38.731480</td>\n",
              "      <td>19.339375</td>\n",
              "      <td>13.642498</td>\n",
              "      <td>4.800736</td>\n",
              "      <td>5.737264</td>\n",
              "      <td>1.225585</td>\n",
              "      <td>-2.569189</td>\n",
              "      <td>-4.226622</td>\n",
              "      <td>-2.592237</td>\n",
              "      <td>-2.470212</td>\n",
              "      <td>-3.418317</td>\n",
              "      <td>-4.742592</td>\n",
              "      <td>-5.179513</td>\n",
              "      <td>-7.300542</td>\n",
              "      <td>-6.457116</td>\n",
              "      <td>-8.406503</td>\n",
              "      <td>-6.806977</td>\n",
              "      <td>-5.403402</td>\n",
              "      <td>-5.559341</td>\n",
              "      <td>-6.575573</td>\n",
              "      <td>-6.976792</td>\n",
              "      <td>-5.100734</td>\n",
              "      <td>-4.185144</td>\n",
              "      <td>-3.800853</td>\n",
              "      <td>-3.075252</td>\n",
              "      <td>-3.749925</td>\n",
              "      <td>-1.709577</td>\n",
              "      <td>-2.363184</td>\n",
              "      <td>-2.938462</td>\n",
              "      <td>-3.426535</td>\n",
              "      <td>-2.200938</td>\n",
              "      <td>-2.308001</td>\n",
              "      <td>-2.633777</td>\n",
              "      <td>-2.855963</td>\n",
              "      <td>-1.484305</td>\n",
              "      <td>-0.572627</td>\n",
              "      <td>-0.406498</td>\n",
              "      <td>AS</td>\n",
              "    </tr>\n",
              "    <tr>\n",
              "      <th>2</th>\n",
              "      <td>New_AS_003.wav</td>\n",
              "      <td>-337.884003</td>\n",
              "      <td>126.753250</td>\n",
              "      <td>69.803627</td>\n",
              "      <td>38.392628</td>\n",
              "      <td>19.705639</td>\n",
              "      <td>14.198488</td>\n",
              "      <td>6.782319</td>\n",
              "      <td>5.320420</td>\n",
              "      <td>0.710631</td>\n",
              "      <td>-1.725201</td>\n",
              "      <td>-2.946195</td>\n",
              "      <td>-4.385197</td>\n",
              "      <td>-2.424929</td>\n",
              "      <td>-3.020022</td>\n",
              "      <td>-4.782989</td>\n",
              "      <td>-6.039215</td>\n",
              "      <td>-6.391043</td>\n",
              "      <td>-6.764718</td>\n",
              "      <td>-7.755748</td>\n",
              "      <td>-6.581075</td>\n",
              "      <td>-7.440814</td>\n",
              "      <td>-6.097929</td>\n",
              "      <td>-5.700669</td>\n",
              "      <td>-4.649336</td>\n",
              "      <td>-3.955864</td>\n",
              "      <td>-3.868546</td>\n",
              "      <td>-3.469527</td>\n",
              "      <td>-2.280956</td>\n",
              "      <td>-2.801260</td>\n",
              "      <td>-3.045662</td>\n",
              "      <td>-3.536156</td>\n",
              "      <td>-2.816846</td>\n",
              "      <td>-3.006063</td>\n",
              "      <td>-2.059665</td>\n",
              "      <td>-2.267380</td>\n",
              "      <td>-2.254928</td>\n",
              "      <td>-2.454799</td>\n",
              "      <td>-2.078894</td>\n",
              "      <td>-1.116142</td>\n",
              "      <td>-0.624152</td>\n",
              "      <td>AS</td>\n",
              "    </tr>\n",
              "    <tr>\n",
              "      <th>3</th>\n",
              "      <td>New_AS_004.wav</td>\n",
              "      <td>-337.474365</td>\n",
              "      <td>125.737366</td>\n",
              "      <td>69.573746</td>\n",
              "      <td>39.135159</td>\n",
              "      <td>19.527885</td>\n",
              "      <td>14.034561</td>\n",
              "      <td>6.280312</td>\n",
              "      <td>4.437397</td>\n",
              "      <td>-0.903032</td>\n",
              "      <td>-2.529600</td>\n",
              "      <td>-3.570369</td>\n",
              "      <td>-3.762748</td>\n",
              "      <td>-2.258923</td>\n",
              "      <td>-2.567725</td>\n",
              "      <td>-5.073695</td>\n",
              "      <td>-6.652354</td>\n",
              "      <td>-7.572790</td>\n",
              "      <td>-7.222268</td>\n",
              "      <td>-7.449883</td>\n",
              "      <td>-5.777076</td>\n",
              "      <td>-7.895954</td>\n",
              "      <td>-6.361236</td>\n",
              "      <td>-5.885261</td>\n",
              "      <td>-5.419313</td>\n",
              "      <td>-5.006650</td>\n",
              "      <td>-4.314235</td>\n",
              "      <td>-3.781503</td>\n",
              "      <td>-2.664603</td>\n",
              "      <td>-2.600913</td>\n",
              "      <td>-4.080035</td>\n",
              "      <td>-3.022249</td>\n",
              "      <td>-2.465597</td>\n",
              "      <td>-1.874435</td>\n",
              "      <td>-2.776594</td>\n",
              "      <td>-3.220186</td>\n",
              "      <td>-2.381613</td>\n",
              "      <td>-2.130704</td>\n",
              "      <td>-1.384692</td>\n",
              "      <td>-1.422316</td>\n",
              "      <td>-1.020553</td>\n",
              "      <td>AS</td>\n",
              "    </tr>\n",
              "    <tr>\n",
              "      <th>4</th>\n",
              "      <td>New_AS_005.wav</td>\n",
              "      <td>-339.964233</td>\n",
              "      <td>127.570206</td>\n",
              "      <td>69.472755</td>\n",
              "      <td>37.634144</td>\n",
              "      <td>18.739628</td>\n",
              "      <td>16.439165</td>\n",
              "      <td>6.387266</td>\n",
              "      <td>4.838267</td>\n",
              "      <td>-1.468527</td>\n",
              "      <td>-2.404939</td>\n",
              "      <td>-3.658324</td>\n",
              "      <td>-3.533180</td>\n",
              "      <td>-2.134718</td>\n",
              "      <td>-4.935038</td>\n",
              "      <td>-5.309263</td>\n",
              "      <td>-5.579243</td>\n",
              "      <td>-6.879863</td>\n",
              "      <td>-6.689310</td>\n",
              "      <td>-8.321243</td>\n",
              "      <td>-7.244814</td>\n",
              "      <td>-7.402897</td>\n",
              "      <td>-5.983927</td>\n",
              "      <td>-5.916489</td>\n",
              "      <td>-4.877998</td>\n",
              "      <td>-3.974636</td>\n",
              "      <td>-3.836716</td>\n",
              "      <td>-3.566067</td>\n",
              "      <td>-3.022480</td>\n",
              "      <td>-3.301179</td>\n",
              "      <td>-2.900582</td>\n",
              "      <td>-2.518935</td>\n",
              "      <td>-2.296602</td>\n",
              "      <td>-3.274177</td>\n",
              "      <td>-2.066587</td>\n",
              "      <td>-2.181443</td>\n",
              "      <td>-2.283373</td>\n",
              "      <td>-1.415654</td>\n",
              "      <td>-1.992843</td>\n",
              "      <td>-1.788425</td>\n",
              "      <td>-1.221795</td>\n",
              "      <td>AS</td>\n",
              "    </tr>\n",
              "  </tbody>\n",
              "</table>\n",
              "</div>"
            ],
            "text/plain": [
              "         filename       mfcc1       mfcc2  ...    mfcc39    mfcc40  label\n",
              "0  New_AS_001.wav -338.932434  128.745911  ... -1.031902 -0.665413     AS\n",
              "1  New_AS_002.wav -335.431335  126.407539  ... -0.572627 -0.406498     AS\n",
              "2  New_AS_003.wav -337.884003  126.753250  ... -1.116142 -0.624152     AS\n",
              "3  New_AS_004.wav -337.474365  125.737366  ... -1.422316 -1.020553     AS\n",
              "4  New_AS_005.wav -339.964233  127.570206  ... -1.788425 -1.221795     AS\n",
              "\n",
              "[5 rows x 42 columns]"
            ]
          },
          "metadata": {},
          "execution_count": 3
        }
      ]
    },
    {
      "cell_type": "markdown",
      "metadata": {
        "id": "HZWCLlw6ILsC"
      },
      "source": [
        "Drop data yang tidak berguna dimana \"filename\" merupakan data yang harus di drop"
      ]
    },
    {
      "cell_type": "code",
      "metadata": {
        "id": "SXgTLKKYxbiS",
        "colab": {
          "base_uri": "https://localhost:8080/",
          "height": 222
        },
        "outputId": "ea9421f4-4abf-4159-8395-302023546419"
      },
      "source": [
        "# Dropping unneccesary columns\n",
        "data = data.drop(['filename'],axis=1)\n",
        "data.head()"
      ],
      "execution_count": null,
      "outputs": [
        {
          "output_type": "execute_result",
          "data": {
            "text/html": [
              "<div>\n",
              "<style scoped>\n",
              "    .dataframe tbody tr th:only-of-type {\n",
              "        vertical-align: middle;\n",
              "    }\n",
              "\n",
              "    .dataframe tbody tr th {\n",
              "        vertical-align: top;\n",
              "    }\n",
              "\n",
              "    .dataframe thead th {\n",
              "        text-align: right;\n",
              "    }\n",
              "</style>\n",
              "<table border=\"1\" class=\"dataframe\">\n",
              "  <thead>\n",
              "    <tr style=\"text-align: right;\">\n",
              "      <th></th>\n",
              "      <th>mfcc1</th>\n",
              "      <th>mfcc2</th>\n",
              "      <th>mfcc3</th>\n",
              "      <th>mfcc4</th>\n",
              "      <th>mfcc5</th>\n",
              "      <th>mfcc6</th>\n",
              "      <th>mfcc7</th>\n",
              "      <th>mfcc8</th>\n",
              "      <th>mfcc9</th>\n",
              "      <th>mfcc10</th>\n",
              "      <th>mfcc11</th>\n",
              "      <th>mfcc12</th>\n",
              "      <th>mfcc13</th>\n",
              "      <th>mfcc14</th>\n",
              "      <th>mfcc15</th>\n",
              "      <th>mfcc16</th>\n",
              "      <th>mfcc17</th>\n",
              "      <th>mfcc18</th>\n",
              "      <th>mfcc19</th>\n",
              "      <th>mfcc20</th>\n",
              "      <th>mfcc21</th>\n",
              "      <th>mfcc22</th>\n",
              "      <th>mfcc23</th>\n",
              "      <th>mfcc24</th>\n",
              "      <th>mfcc25</th>\n",
              "      <th>mfcc26</th>\n",
              "      <th>mfcc27</th>\n",
              "      <th>mfcc28</th>\n",
              "      <th>mfcc29</th>\n",
              "      <th>mfcc30</th>\n",
              "      <th>mfcc31</th>\n",
              "      <th>mfcc32</th>\n",
              "      <th>mfcc33</th>\n",
              "      <th>mfcc34</th>\n",
              "      <th>mfcc35</th>\n",
              "      <th>mfcc36</th>\n",
              "      <th>mfcc37</th>\n",
              "      <th>mfcc38</th>\n",
              "      <th>mfcc39</th>\n",
              "      <th>mfcc40</th>\n",
              "      <th>label</th>\n",
              "    </tr>\n",
              "  </thead>\n",
              "  <tbody>\n",
              "    <tr>\n",
              "      <th>0</th>\n",
              "      <td>-338.932434</td>\n",
              "      <td>128.745911</td>\n",
              "      <td>69.038406</td>\n",
              "      <td>36.904743</td>\n",
              "      <td>19.021568</td>\n",
              "      <td>15.422963</td>\n",
              "      <td>6.684067</td>\n",
              "      <td>3.380097</td>\n",
              "      <td>-0.144963</td>\n",
              "      <td>-1.777843</td>\n",
              "      <td>-3.210189</td>\n",
              "      <td>-3.010616</td>\n",
              "      <td>-2.083277</td>\n",
              "      <td>-4.072206</td>\n",
              "      <td>-4.549516</td>\n",
              "      <td>-5.435858</td>\n",
              "      <td>-5.539069</td>\n",
              "      <td>-5.607706</td>\n",
              "      <td>-8.046321</td>\n",
              "      <td>-7.612111</td>\n",
              "      <td>-5.243616</td>\n",
              "      <td>-5.874041</td>\n",
              "      <td>-6.067873</td>\n",
              "      <td>-5.592593</td>\n",
              "      <td>-3.646802</td>\n",
              "      <td>-2.900333</td>\n",
              "      <td>-2.976131</td>\n",
              "      <td>-2.810204</td>\n",
              "      <td>-3.587361</td>\n",
              "      <td>-2.338714</td>\n",
              "      <td>-1.910318</td>\n",
              "      <td>-1.835819</td>\n",
              "      <td>-3.639286</td>\n",
              "      <td>-2.336206</td>\n",
              "      <td>-2.146957</td>\n",
              "      <td>-0.969372</td>\n",
              "      <td>-1.198764</td>\n",
              "      <td>-1.802625</td>\n",
              "      <td>-1.031902</td>\n",
              "      <td>-0.665413</td>\n",
              "      <td>AS</td>\n",
              "    </tr>\n",
              "    <tr>\n",
              "      <th>1</th>\n",
              "      <td>-335.431335</td>\n",
              "      <td>126.407539</td>\n",
              "      <td>67.568985</td>\n",
              "      <td>38.731480</td>\n",
              "      <td>19.339375</td>\n",
              "      <td>13.642498</td>\n",
              "      <td>4.800736</td>\n",
              "      <td>5.737264</td>\n",
              "      <td>1.225585</td>\n",
              "      <td>-2.569189</td>\n",
              "      <td>-4.226622</td>\n",
              "      <td>-2.592237</td>\n",
              "      <td>-2.470212</td>\n",
              "      <td>-3.418317</td>\n",
              "      <td>-4.742592</td>\n",
              "      <td>-5.179513</td>\n",
              "      <td>-7.300542</td>\n",
              "      <td>-6.457116</td>\n",
              "      <td>-8.406503</td>\n",
              "      <td>-6.806977</td>\n",
              "      <td>-5.403402</td>\n",
              "      <td>-5.559341</td>\n",
              "      <td>-6.575573</td>\n",
              "      <td>-6.976792</td>\n",
              "      <td>-5.100734</td>\n",
              "      <td>-4.185144</td>\n",
              "      <td>-3.800853</td>\n",
              "      <td>-3.075252</td>\n",
              "      <td>-3.749925</td>\n",
              "      <td>-1.709577</td>\n",
              "      <td>-2.363184</td>\n",
              "      <td>-2.938462</td>\n",
              "      <td>-3.426535</td>\n",
              "      <td>-2.200938</td>\n",
              "      <td>-2.308001</td>\n",
              "      <td>-2.633777</td>\n",
              "      <td>-2.855963</td>\n",
              "      <td>-1.484305</td>\n",
              "      <td>-0.572627</td>\n",
              "      <td>-0.406498</td>\n",
              "      <td>AS</td>\n",
              "    </tr>\n",
              "    <tr>\n",
              "      <th>2</th>\n",
              "      <td>-337.884003</td>\n",
              "      <td>126.753250</td>\n",
              "      <td>69.803627</td>\n",
              "      <td>38.392628</td>\n",
              "      <td>19.705639</td>\n",
              "      <td>14.198488</td>\n",
              "      <td>6.782319</td>\n",
              "      <td>5.320420</td>\n",
              "      <td>0.710631</td>\n",
              "      <td>-1.725201</td>\n",
              "      <td>-2.946195</td>\n",
              "      <td>-4.385197</td>\n",
              "      <td>-2.424929</td>\n",
              "      <td>-3.020022</td>\n",
              "      <td>-4.782989</td>\n",
              "      <td>-6.039215</td>\n",
              "      <td>-6.391043</td>\n",
              "      <td>-6.764718</td>\n",
              "      <td>-7.755748</td>\n",
              "      <td>-6.581075</td>\n",
              "      <td>-7.440814</td>\n",
              "      <td>-6.097929</td>\n",
              "      <td>-5.700669</td>\n",
              "      <td>-4.649336</td>\n",
              "      <td>-3.955864</td>\n",
              "      <td>-3.868546</td>\n",
              "      <td>-3.469527</td>\n",
              "      <td>-2.280956</td>\n",
              "      <td>-2.801260</td>\n",
              "      <td>-3.045662</td>\n",
              "      <td>-3.536156</td>\n",
              "      <td>-2.816846</td>\n",
              "      <td>-3.006063</td>\n",
              "      <td>-2.059665</td>\n",
              "      <td>-2.267380</td>\n",
              "      <td>-2.254928</td>\n",
              "      <td>-2.454799</td>\n",
              "      <td>-2.078894</td>\n",
              "      <td>-1.116142</td>\n",
              "      <td>-0.624152</td>\n",
              "      <td>AS</td>\n",
              "    </tr>\n",
              "    <tr>\n",
              "      <th>3</th>\n",
              "      <td>-337.474365</td>\n",
              "      <td>125.737366</td>\n",
              "      <td>69.573746</td>\n",
              "      <td>39.135159</td>\n",
              "      <td>19.527885</td>\n",
              "      <td>14.034561</td>\n",
              "      <td>6.280312</td>\n",
              "      <td>4.437397</td>\n",
              "      <td>-0.903032</td>\n",
              "      <td>-2.529600</td>\n",
              "      <td>-3.570369</td>\n",
              "      <td>-3.762748</td>\n",
              "      <td>-2.258923</td>\n",
              "      <td>-2.567725</td>\n",
              "      <td>-5.073695</td>\n",
              "      <td>-6.652354</td>\n",
              "      <td>-7.572790</td>\n",
              "      <td>-7.222268</td>\n",
              "      <td>-7.449883</td>\n",
              "      <td>-5.777076</td>\n",
              "      <td>-7.895954</td>\n",
              "      <td>-6.361236</td>\n",
              "      <td>-5.885261</td>\n",
              "      <td>-5.419313</td>\n",
              "      <td>-5.006650</td>\n",
              "      <td>-4.314235</td>\n",
              "      <td>-3.781503</td>\n",
              "      <td>-2.664603</td>\n",
              "      <td>-2.600913</td>\n",
              "      <td>-4.080035</td>\n",
              "      <td>-3.022249</td>\n",
              "      <td>-2.465597</td>\n",
              "      <td>-1.874435</td>\n",
              "      <td>-2.776594</td>\n",
              "      <td>-3.220186</td>\n",
              "      <td>-2.381613</td>\n",
              "      <td>-2.130704</td>\n",
              "      <td>-1.384692</td>\n",
              "      <td>-1.422316</td>\n",
              "      <td>-1.020553</td>\n",
              "      <td>AS</td>\n",
              "    </tr>\n",
              "    <tr>\n",
              "      <th>4</th>\n",
              "      <td>-339.964233</td>\n",
              "      <td>127.570206</td>\n",
              "      <td>69.472755</td>\n",
              "      <td>37.634144</td>\n",
              "      <td>18.739628</td>\n",
              "      <td>16.439165</td>\n",
              "      <td>6.387266</td>\n",
              "      <td>4.838267</td>\n",
              "      <td>-1.468527</td>\n",
              "      <td>-2.404939</td>\n",
              "      <td>-3.658324</td>\n",
              "      <td>-3.533180</td>\n",
              "      <td>-2.134718</td>\n",
              "      <td>-4.935038</td>\n",
              "      <td>-5.309263</td>\n",
              "      <td>-5.579243</td>\n",
              "      <td>-6.879863</td>\n",
              "      <td>-6.689310</td>\n",
              "      <td>-8.321243</td>\n",
              "      <td>-7.244814</td>\n",
              "      <td>-7.402897</td>\n",
              "      <td>-5.983927</td>\n",
              "      <td>-5.916489</td>\n",
              "      <td>-4.877998</td>\n",
              "      <td>-3.974636</td>\n",
              "      <td>-3.836716</td>\n",
              "      <td>-3.566067</td>\n",
              "      <td>-3.022480</td>\n",
              "      <td>-3.301179</td>\n",
              "      <td>-2.900582</td>\n",
              "      <td>-2.518935</td>\n",
              "      <td>-2.296602</td>\n",
              "      <td>-3.274177</td>\n",
              "      <td>-2.066587</td>\n",
              "      <td>-2.181443</td>\n",
              "      <td>-2.283373</td>\n",
              "      <td>-1.415654</td>\n",
              "      <td>-1.992843</td>\n",
              "      <td>-1.788425</td>\n",
              "      <td>-1.221795</td>\n",
              "      <td>AS</td>\n",
              "    </tr>\n",
              "  </tbody>\n",
              "</table>\n",
              "</div>"
            ],
            "text/plain": [
              "        mfcc1       mfcc2      mfcc3  ...    mfcc39    mfcc40  label\n",
              "0 -338.932434  128.745911  69.038406  ... -1.031902 -0.665413     AS\n",
              "1 -335.431335  126.407539  67.568985  ... -0.572627 -0.406498     AS\n",
              "2 -337.884003  126.753250  69.803627  ... -1.116142 -0.624152     AS\n",
              "3 -337.474365  125.737366  69.573746  ... -1.422316 -1.020553     AS\n",
              "4 -339.964233  127.570206  69.472755  ... -1.788425 -1.221795     AS\n",
              "\n",
              "[5 rows x 41 columns]"
            ]
          },
          "metadata": {},
          "execution_count": 4
        }
      ]
    },
    {
      "cell_type": "markdown",
      "metadata": {
        "id": "7fGpfktkIZFw"
      },
      "source": [
        "Mengubah jenis penyakit menjadi integer"
      ]
    },
    {
      "cell_type": "code",
      "metadata": {
        "id": "WK_jEsZfxg2Q",
        "colab": {
          "base_uri": "https://localhost:8080/"
        },
        "outputId": "afae9674-27ee-4ca2-b949-0d58083a1ebd"
      },
      "source": [
        "genre_list = data.iloc[:, -1]\n",
        "encoder = LabelEncoder()\n",
        "y = encoder.fit_transform(genre_list)\n",
        "print(y)"
      ],
      "execution_count": null,
      "outputs": [
        {
          "output_type": "stream",
          "name": "stdout",
          "text": [
            "[0 0 0 0 0 0 0 0 0 0 0 0 0 0 0 0 0 0 0 0 0 0 0 0 0 0 0 0 0 0 0 0 0 0 0 0 0\n",
            " 0 0 0 0 0 0 0 0 0 0 0 0 0 0 0 0 0 0 0 0 0 0 0 0 0 0 0 0 0 0 0 0 0 0 0 0 0\n",
            " 0 0 0 0 0 0 0 0 0 0 0 0 0 0 0 0 0 0 0 0 0 0 0 0 0 0 0 0 0 0 0 0 0 0 0 0 0\n",
            " 0 0 0 0 0 0 0 0 0 0 0 0 0 0 0 0 0 0 0 0 0 0 0 0 0 0 0 0 0 0 0 0 0 0 0 0 0\n",
            " 0 0 0 0 0 0 0 0 0 0 0 0 0 0 0 0 0 0 0 0 0 0 0 0 0 0 0 0 0 0 0 0 0 0 0 0 0\n",
            " 0 0 0 0 0 0 0 0 0 0 0 0 0 0 0 1 1 1 1 1 1 1 1 1 1 1 1 1 1 1 1 1 1 1 1 1 1\n",
            " 1 1 1 1 1 1 1 1 1 1 1 1 1 1 1 1 1 1 1 1 1 1 1 1 1 1 1 1 1 1 1 1 1 1 1 1 1\n",
            " 1 1 1 1 1 1 1 1 1 1 1 1 1 1 1 1 1 1 1 1 1 1 1 1 1 1 1 1 1 1 1 1 1 1 1 1 1\n",
            " 1 1 1 1 1 1 1 1 1 1 1 1 1 1 1 1 1 1 1 1 1 1 1 1 1 1 1 1 1 1 1 1 1 1 1 1 1\n",
            " 1 1 1 1 1 1 1 1 1 1 1 1 1 1 1 1 1 1 1 1 1 1 1 1 1 1 1 1 1 1 1 1 1 1 1 1 1\n",
            " 1 1 1 1 1 1 1 1 1 1 1 1 1 1 1 1 1 1 1 1 1 1 1 1 1 1 1 1 1 1 2 2 2 2 2 2 2\n",
            " 2 2 2 2 2 2 2 2 2 2 2 2 2 2 2 2 2 2 2 2 2 2 2 2 2 2 2 2 2 2 2 2 2 2 2 2 2\n",
            " 2 2 2 2 2 2 2 2 2 2 2 2 2 2 2 2 2 2 2 2 2 2 2 2 2 2 2 2 2 2 2 2 2 2 2 2 2\n",
            " 2 2 2 2 2 2 2 2 2 2 2 2 2 2 2 2 2 2 2 2 2 2 2 2 2 2 2 2 2 2 2 2 2 2 2 2 2\n",
            " 2 2 2 2 2 2 2 2 2 2 2 2 2 2 2 2 2 2 2 2 2 2 2 2 2 2 2 2 2 2 2 2 2 2 2 2 2\n",
            " 2 2 2 2 2 2 2 2 2 2 2 2 2 2 2 2 2 2 2 2 2 2 2 2 2 2 2 2 2 2 2 2 2 2 2 2 2\n",
            " 2 2 2 2 2 2 2 2 3 3 3 3 3 3 3 3 3 3 3 3 3 3 3 3 3 3 3 3 3 3 3 3 3 3 3 3 3\n",
            " 3 3 3 3 3 3 3 3 3 3 3 3 3 3 3 3 3 3 3 3 3 3 3 3 3 3 3 3 3 3 3 3 3 3 3 3 3\n",
            " 3 3 3 3 3 3 3 3 3 3 3 3 3 3 3 3 3 3 3 3 3 3 3 3 3 3 3 3 3 3 3 3 3 3 3 3 3\n",
            " 3 3 3 3 3 3 3 3 3 3 3 3 3 3 3 3 3 3 3 3 3 3 3 3 3 3 3 3 3 3 3 3 3 3 3 3 3\n",
            " 3 3 3 3 3 3 3 3 3 3 3 3 3 3 3 3 3 3 3 3 3 3 3 3 3 3 3 3 3 3 3 3 3 3 3 3 3\n",
            " 3 3 3 3 3 3 3 3 3 3 3 3 3 3 3 3 3 3 3 3 3 3 3 4 4 4 4 4 4 4 4 4 4 4 4 4 4\n",
            " 4 4 4 4 4 4 4 4 4 4 4 4 4 4 4 4 4 4 4 4 4 4 4 4 4 4 4 4 4 4 4 4 4 4 4 4 4\n",
            " 4 4 4 4 4 4 4 4 4 4 4 4 4 4 4 4 4 4 4 4 4 4 4 4 4 4 4 4 4 4 4 4 4 4 4 4 4\n",
            " 4 4 4 4 4 4 4 4 4 4 4 4 4 4 4 4 4 4 4 4 4 4 4 4 4 4 4 4 4 4 4 4 4 4 4 4 4\n",
            " 4 4 4 4 4 4 4 4 4 4 4 4 4 4 4 4 4 4 4 4 4 4 4 4 4 4 4 4 4 4 4 4 4 4 4 4 4\n",
            " 4 4 4 4 4 4 4 4 4 4 4 4 4 4 4 4 4 4 4 4 4 4 4 4 4 4 4 4 4 4 4 4 4 4 4 4 4\n",
            " 4]\n"
          ]
        }
      ]
    },
    {
      "cell_type": "code",
      "metadata": {
        "id": "36ik6sJvpVri"
      },
      "source": [
        "#Transforming categorical feature into numeric.\n",
        "#Goal Keeper = 0\n",
        "#Defender = 1\n",
        "#Midfielder = 2\n",
        "#Forward = 3\n",
        "#def class_numeric(val):\n",
        "#    if val == 'AS':\n",
        "#        return 0\n",
        "#    elif val == 'MR':\n",
        "#        return 1\n",
        "#    elif val == 'MS':\n",
        "#        return 2\n",
        "#    elif val == 'MVP':\n",
        "#        return 3\n",
        "#    else:\n",
        "#        return 4\n",
        "#data['label'] = data['label'].apply(class_numeric)"
      ],
      "execution_count": null,
      "outputs": []
    },
    {
      "cell_type": "code",
      "metadata": {
        "id": "PUnJ6jJTkfQC"
      },
      "source": [
        "#y = data['label']\n",
        "#print(y)"
      ],
      "execution_count": null,
      "outputs": []
    },
    {
      "cell_type": "markdown",
      "metadata": {
        "id": "X7gZxcMBIj-d"
      },
      "source": [
        "Semua angka integer merepresentasikan jenis penyakit VHD"
      ]
    },
    {
      "cell_type": "code",
      "metadata": {
        "id": "zj46MhJcxjiC",
        "colab": {
          "base_uri": "https://localhost:8080/"
        },
        "outputId": "6a8b4b78-8d8f-4336-b994-e27a1cc0cfc8"
      },
      "source": [
        "scaler = StandardScaler()\n",
        "X = scaler.fit_transform(np.array(data.iloc[:, :-1], dtype = float))\n",
        "#X = data.drop(['label'],axis=1)\n",
        "print(X)"
      ],
      "execution_count": null,
      "outputs": [
        {
          "output_type": "stream",
          "name": "stdout",
          "text": [
            "[[ 1.50559724  0.19330944  0.22373703 ... -0.30944039  0.08614387\n",
            "   0.35002996]\n",
            " [ 1.57522061  0.076081    0.13817654 ... -0.10823342  0.41045802\n",
            "   0.53740606]\n",
            " [ 1.52644651  0.09341235  0.26829379 ... -0.48406773  0.02665881\n",
            "   0.37989065]\n",
            " ...\n",
            " [-1.70890806 -0.75462091  0.01576063 ... -0.78521694  0.45935954\n",
            "   0.74540984]\n",
            " [-1.64502697 -0.90098405 -0.22309462 ... -1.41252106 -0.74687892\n",
            "   1.03828748]\n",
            " [-2.05720938 -1.3329276  -0.49126745 ... -0.06952325  0.37926307\n",
            "   0.21699927]]\n"
          ]
        }
      ]
    },
    {
      "cell_type": "markdown",
      "metadata": {
        "id": "LFO9PCshIz-B"
      },
      "source": [
        "Dataset training dan test dibagi menjadi 80:20"
      ]
    },
    {
      "cell_type": "code",
      "metadata": {
        "id": "NOSAIsV5xl-R"
      },
      "source": [
        "X_train, X_test, y_train, y_test = train_test_split(X, y, test_size=0.2, random_state=0, stratify=y)"
      ],
      "execution_count": null,
      "outputs": []
    },
    {
      "cell_type": "code",
      "metadata": {
        "id": "smOpdfQ2-MY_",
        "colab": {
          "base_uri": "https://localhost:8080/"
        },
        "outputId": "98e24272-a752-468f-939a-71506e9ccb38"
      },
      "source": [
        "X_train.shape,X_test.shape,y_train.shape,y_test.shape"
      ],
      "execution_count": null,
      "outputs": [
        {
          "output_type": "execute_result",
          "data": {
            "text/plain": [
              "((800, 40), (200, 40), (800,), (200,))"
            ]
          },
          "metadata": {},
          "execution_count": 10
        }
      ]
    },
    {
      "cell_type": "code",
      "metadata": {
        "id": "wjMWh-pO96GC",
        "colab": {
          "base_uri": "https://localhost:8080/"
        },
        "outputId": "a1ee568e-b327-4fcd-826d-267af414c94e"
      },
      "source": [
        "print(X_test)"
      ],
      "execution_count": null,
      "outputs": [
        {
          "output_type": "stream",
          "name": "stdout",
          "text": [
            "[[ 0.71465556  1.06503585 -0.02942162 ... -0.72150431 -1.71751971\n",
            "  -1.20860695]\n",
            " [-0.16228607 -1.11699197 -0.09558973 ... -0.71830656 -1.16536267\n",
            "  -0.25460847]\n",
            " [ 1.55529623  0.46286046 -1.6452803  ... -1.10584907 -0.46594843\n",
            "  -1.19129674]\n",
            " ...\n",
            " [ 0.63161596  2.24420718 -1.62468292 ... -0.54954387 -0.1554063\n",
            "  -0.15214007]\n",
            " [ 0.06691502 -1.7712907  -1.1381496  ... -0.93949746 -0.15052419\n",
            "   0.43189551]\n",
            " [-1.37795493  1.32831189  1.3704026  ... -0.1975171  -0.4142302\n",
            "  -0.27799832]]\n"
          ]
        }
      ]
    },
    {
      "cell_type": "code",
      "metadata": {
        "id": "oX4zKg8m7qZO",
        "colab": {
          "base_uri": "https://localhost:8080/"
        },
        "outputId": "ffdc9114-053a-4678-8d54-58a4d9b630db"
      },
      "source": [
        "X_train.shape,X_test.shape,y_train.shape,y_test.shape"
      ],
      "execution_count": null,
      "outputs": [
        {
          "output_type": "execute_result",
          "data": {
            "text/plain": [
              "((800, 40), (200, 40), (800,), (200,))"
            ]
          },
          "metadata": {},
          "execution_count": 12
        }
      ]
    },
    {
      "cell_type": "code",
      "metadata": {
        "id": "K9K-zCfZmepi"
      },
      "source": [
        "def calculate_sensitivity_specificity(y_test, y_pred):\n",
        "    # Note: More parameters are defined than necessary. \n",
        "    # This would allow return of other measures other than sensitivity and specificity\n",
        "    \n",
        "    # Get true/false for whether a breach actually occurred\n",
        "    actual_pos = y_test == 1\n",
        "    actual_neg = y_test == 0\n",
        "    \n",
        "    # Get true and false test (true test match actual, false tests differ from actual)\n",
        "    true_pos = (y_pred == 1) & (actual_pos)\n",
        "    false_pos = (y_pred == 1) & (actual_neg)\n",
        "    true_neg = (y_pred == 0) & (actual_neg)\n",
        "    false_neg = (y_pred == 0) & (actual_pos)\n",
        "    \n",
        "    # Calculate accuracy\n",
        "    accuracy = np.mean(y_pred == y_test)\n",
        "    \n",
        "    # Calculate sensitivity and specificity\n",
        "    sensitivity = np.sum(true_pos) / np.sum(actual_pos)\n",
        "    specificity = np.sum(true_neg) / np.sum(actual_neg)\n",
        "    \n",
        "    return sensitivity, specificity, accuracy"
      ],
      "execution_count": null,
      "outputs": []
    },
    {
      "cell_type": "markdown",
      "metadata": {
        "id": "ttE8womtI9Ty"
      },
      "source": [
        "#Membuat model, testing, dan training"
      ]
    },
    {
      "cell_type": "code",
      "metadata": {
        "id": "lgsJHeWBxoM4"
      },
      "source": [
        "from keras import models\n",
        "from keras import layers\n",
        "model = models.Sequential()\n",
        "model.add(layers.Dense(256, activation='relu', input_shape=(X_train.shape[1],)))\n",
        "model.add(layers.Dense(128, activation='relu'))\n",
        "model.add(layers.Dense(64, activation='relu'))\n",
        "model.add(layers.Dense(5, activation='softmax'))"
      ],
      "execution_count": null,
      "outputs": []
    },
    {
      "cell_type": "code",
      "metadata": {
        "id": "YACIg8RFxq7J"
      },
      "source": [
        "model.compile(optimizer='adam',\n",
        "              loss='sparse_categorical_crossentropy',\n",
        "              metrics=['accuracy'])"
      ],
      "execution_count": null,
      "outputs": []
    },
    {
      "cell_type": "code",
      "metadata": {
        "id": "wJm68omcxuh0",
        "colab": {
          "base_uri": "https://localhost:8080/"
        },
        "outputId": "28c5f5d2-1e71-4f02-ada7-c2559682754f"
      },
      "source": [
        "history = model.fit(X_train,\n",
        "                    y_train,\n",
        "                    epochs=20,\n",
        "                    batch_size=128\n",
        "                    )"
      ],
      "execution_count": null,
      "outputs": [
        {
          "output_type": "stream",
          "name": "stdout",
          "text": [
            "Epoch 1/20\n",
            "7/7 [==============================] - 1s 4ms/step - loss: 1.3218 - accuracy: 0.5638\n",
            "Epoch 2/20\n",
            "7/7 [==============================] - 0s 4ms/step - loss: 0.8050 - accuracy: 0.8075\n",
            "Epoch 3/20\n",
            "7/7 [==============================] - 0s 4ms/step - loss: 0.5004 - accuracy: 0.8763\n",
            "Epoch 4/20\n",
            "7/7 [==============================] - 0s 4ms/step - loss: 0.3364 - accuracy: 0.9050\n",
            "Epoch 5/20\n",
            "7/7 [==============================] - 0s 4ms/step - loss: 0.2287 - accuracy: 0.9275\n",
            "Epoch 6/20\n",
            "7/7 [==============================] - 0s 4ms/step - loss: 0.1679 - accuracy: 0.9513\n",
            "Epoch 7/20\n",
            "7/7 [==============================] - 0s 4ms/step - loss: 0.1242 - accuracy: 0.9638\n",
            "Epoch 8/20\n",
            "7/7 [==============================] - 0s 4ms/step - loss: 0.0913 - accuracy: 0.9812\n",
            "Epoch 9/20\n",
            "7/7 [==============================] - 0s 5ms/step - loss: 0.0688 - accuracy: 0.9912\n",
            "Epoch 10/20\n",
            "7/7 [==============================] - 0s 6ms/step - loss: 0.0514 - accuracy: 0.9950\n",
            "Epoch 11/20\n",
            "7/7 [==============================] - 0s 4ms/step - loss: 0.0398 - accuracy: 0.9987\n",
            "Epoch 12/20\n",
            "7/7 [==============================] - 0s 4ms/step - loss: 0.0297 - accuracy: 1.0000\n",
            "Epoch 13/20\n",
            "7/7 [==============================] - 0s 4ms/step - loss: 0.0233 - accuracy: 1.0000\n",
            "Epoch 14/20\n",
            "7/7 [==============================] - 0s 5ms/step - loss: 0.0188 - accuracy: 1.0000\n",
            "Epoch 15/20\n",
            "7/7 [==============================] - 0s 4ms/step - loss: 0.0152 - accuracy: 1.0000\n",
            "Epoch 16/20\n",
            "7/7 [==============================] - 0s 4ms/step - loss: 0.0120 - accuracy: 1.0000\n",
            "Epoch 17/20\n",
            "7/7 [==============================] - 0s 4ms/step - loss: 0.0102 - accuracy: 1.0000\n",
            "Epoch 18/20\n",
            "7/7 [==============================] - 0s 5ms/step - loss: 0.0088 - accuracy: 1.0000\n",
            "Epoch 19/20\n",
            "7/7 [==============================] - 0s 4ms/step - loss: 0.0075 - accuracy: 1.0000\n",
            "Epoch 20/20\n",
            "7/7 [==============================] - 0s 6ms/step - loss: 0.0066 - accuracy: 1.0000\n"
          ]
        }
      ]
    },
    {
      "cell_type": "code",
      "metadata": {
        "id": "clYnGG6bx1t4",
        "colab": {
          "base_uri": "https://localhost:8080/"
        },
        "outputId": "c0832c2f-da06-4157-c67f-0c11df9f9eb8"
      },
      "source": [
        "test_loss, test_acc = model.evaluate(X_test,y_test)\n",
        "print('test_acc: ',test_acc)"
      ],
      "execution_count": null,
      "outputs": [
        {
          "output_type": "stream",
          "name": "stdout",
          "text": [
            "7/7 [==============================] - 0s 2ms/step - loss: 0.0190 - accuracy: 0.9950\n",
            "test_acc:  0.9950000047683716\n"
          ]
        }
      ]
    },
    {
      "cell_type": "markdown",
      "metadata": {
        "id": "v4v12yuLJNSW"
      },
      "source": [
        "Mendapatkan akurasi dengan model yang dapat memprediksi jenis penyakit yang diberikan berdasarkan fitur yang diekstraksi. Model ini mencapai akurasi ...dimana akurasi ini sudah sangat baik"
      ]
    },
    {
      "cell_type": "code",
      "metadata": {
        "id": "ojC-KaCzx4PJ",
        "colab": {
          "base_uri": "https://localhost:8080/"
        },
        "outputId": "35798ffd-9001-4a44-8574-a4e7b12c6bec"
      },
      "source": [
        "predictions = model.predict(X_test)\n",
        "np.argmax(predictions[6])"
      ],
      "execution_count": null,
      "outputs": [
        {
          "output_type": "execute_result",
          "data": {
            "text/plain": [
              "4"
            ]
          },
          "metadata": {},
          "execution_count": 18
        }
      ]
    },
    {
      "cell_type": "code",
      "metadata": {
        "id": "KAnz0MrA4Ebm",
        "colab": {
          "base_uri": "https://localhost:8080/"
        },
        "outputId": "027929a3-e5c6-4eb0-8a28-1de7ece98437"
      },
      "source": [
        "y_pred = model.predict(X_test).argmax(axis=1)\n",
        "from sklearn.metrics import classification_report, confusion_matrix, accuracy_score\n",
        "result = confusion_matrix(y_test, y_pred,)\n",
        "print(\"Confusion Matrix:\")\n",
        "print(result)\n",
        "result1 = classification_report(y_test, y_pred, target_names=['Sinyal AS', 'Sinyal MR','Sinyal MS','Sinyal MVP','Sinyal N'])\n",
        "print(\"Classification Report:\",)\n",
        "print (result1)\n",
        "result2 = accuracy_score(y_test,y_pred)\n",
        "print(\"Accuracy:\",result2)"
      ],
      "execution_count": null,
      "outputs": [
        {
          "output_type": "stream",
          "name": "stdout",
          "text": [
            "Confusion Matrix:\n",
            "[[40  0  0  0  0]\n",
            " [ 0 40  0  0  0]\n",
            " [ 1  0 39  0  0]\n",
            " [ 0  0  0 40  0]\n",
            " [ 0  0  0  0 40]]\n",
            "Classification Report:\n",
            "              precision    recall  f1-score   support\n",
            "\n",
            "   Sinyal AS       0.98      1.00      0.99        40\n",
            "   Sinyal MR       1.00      1.00      1.00        40\n",
            "   Sinyal MS       1.00      0.97      0.99        40\n",
            "  Sinyal MVP       1.00      1.00      1.00        40\n",
            "    Sinyal N       1.00      1.00      1.00        40\n",
            "\n",
            "    accuracy                           0.99       200\n",
            "   macro avg       1.00      0.99      0.99       200\n",
            "weighted avg       1.00      0.99      0.99       200\n",
            "\n",
            "Accuracy: 0.995\n"
          ]
        }
      ]
    },
    {
      "cell_type": "code",
      "metadata": {
        "id": "ru0TMBt0nYtd",
        "colab": {
          "base_uri": "https://localhost:8080/"
        },
        "outputId": "6fb67374-da49-4ab6-f97b-2a30b6dc5b26"
      },
      "source": [
        "sensitivity, specificity, accuracy = calculate_sensitivity_specificity(y_test, y_pred)\n",
        "print ('Sensitivity:', sensitivity)\n",
        "print ('Specificity:', specificity)\n",
        "print ('Accuracy:', accuracy)"
      ],
      "execution_count": null,
      "outputs": [
        {
          "output_type": "stream",
          "name": "stdout",
          "text": [
            "Sensitivity: 1.0\n",
            "Specificity: 1.0\n",
            "Accuracy: 0.995\n"
          ]
        }
      ]
    },
    {
      "cell_type": "code",
      "metadata": {
        "id": "aHp0Ugj6PKkH",
        "colab": {
          "base_uri": "https://localhost:8080/"
        },
        "outputId": "00cb6eff-2e84-40d0-bb0c-e9750789d841"
      },
      "source": [
        "lol = X_test[:1]\n",
        "lil = model.predict(lol)\n",
        "np.argmax(lil)"
      ],
      "execution_count": null,
      "outputs": [
        {
          "output_type": "execute_result",
          "data": {
            "text/plain": [
              "2"
            ]
          },
          "metadata": {},
          "execution_count": 21
        }
      ]
    },
    {
      "cell_type": "code",
      "metadata": {
        "id": "zMcvioBvShQc",
        "colab": {
          "base_uri": "https://localhost:8080/"
        },
        "outputId": "ad9c313c-402d-4381-8057-9cbd3670c7c6"
      },
      "source": [
        "y_test[0:100]"
      ],
      "execution_count": null,
      "outputs": [
        {
          "output_type": "execute_result",
          "data": {
            "text/plain": [
              "array([2, 3, 2, 3, 0, 2, 4, 0, 1, 3, 2, 0, 1, 4, 1, 1, 1, 4, 3, 4, 0, 2,\n",
              "       3, 1, 2, 1, 4, 0, 4, 3, 3, 2, 3, 3, 3, 2, 2, 0, 4, 2, 3, 1, 1, 3,\n",
              "       1, 3, 3, 0, 3, 4, 0, 2, 4, 2, 1, 2, 4, 3, 3, 2, 0, 2, 1, 3, 0, 0,\n",
              "       4, 2, 1, 1, 0, 4, 1, 1, 0, 4, 2, 3, 0, 0, 0, 3, 0, 0, 0, 1, 4, 3,\n",
              "       4, 4, 3, 0, 4, 3, 2, 4, 0, 3, 1, 3])"
            ]
          },
          "metadata": {},
          "execution_count": 22
        }
      ]
    },
    {
      "cell_type": "code",
      "metadata": {
        "id": "rr6Est6-4s_L"
      },
      "source": [
        ""
      ],
      "execution_count": null,
      "outputs": []
    },
    {
      "cell_type": "code",
      "metadata": {
        "id": "aSGkxHdSmyH_",
        "colab": {
          "base_uri": "https://localhost:8080/"
        },
        "outputId": "73b508ef-2829-4206-ab83-4a5be43770d3"
      },
      "source": [
        "model.save('stetoskopDigital')"
      ],
      "execution_count": null,
      "outputs": [
        {
          "output_type": "stream",
          "name": "stdout",
          "text": [
            "INFO:tensorflow:Assets written to: stetoskopDigital/assets\n"
          ]
        }
      ]
    },
    {
      "cell_type": "code",
      "metadata": {
        "id": "26JETe-BA-Ys",
        "colab": {
          "base_uri": "https://localhost:8080/"
        },
        "outputId": "61a80a69-0a3d-4119-d6cf-f7b13539c620"
      },
      "source": [
        "import tensorflow as tf\n",
        "# Convert the model.\n",
        "converter = tf.lite.TFLiteConverter.from_keras_model(model)\n",
        "tflite_model = converter.convert()\n",
        "\n",
        "# Save the model.\n",
        "with open('model.tflite', 'wb') as f:\n",
        "  f.write(tflite_model)"
      ],
      "execution_count": null,
      "outputs": [
        {
          "output_type": "stream",
          "name": "stdout",
          "text": [
            "INFO:tensorflow:Assets written to: /tmp/tmpuw3jc6e3/assets\n"
          ]
        },
        {
          "output_type": "stream",
          "name": "stderr",
          "text": [
            "WARNING:absl:Buffer deduplication procedure will be skipped when flatbuffer library is not properly loaded\n"
          ]
        }
      ]
    },
    {
      "cell_type": "code",
      "metadata": {
        "id": "OcVK8xDJm_Ha",
        "colab": {
          "base_uri": "https://localhost:8080/"
        },
        "outputId": "8c5d18c6-f865-42eb-aa0f-1fcd6add3ef5"
      },
      "source": [
        "import tensorflow as tf\n",
        "converter = tf.lite.TFLiteConverter.from_keras_model(model)\n",
        "tflite_model = converter.convert()\n",
        "\n",
        "# Save the TF Lite model.\n",
        "with tf.io.gfile.GFile('model.tflite', 'wb') as f:\n",
        "  f.write(tflite_model)"
      ],
      "execution_count": null,
      "outputs": [
        {
          "output_type": "stream",
          "name": "stdout",
          "text": [
            "INFO:tensorflow:Assets written to: /tmp/tmpg46pt4_t/assets\n"
          ]
        },
        {
          "output_type": "stream",
          "name": "stderr",
          "text": [
            "INFO:tensorflow:Assets written to: /tmp/tmpg46pt4_t/assets\n",
            "WARNING:absl:Buffer deduplication procedure will be skipped when flatbuffer library is not properly loaded\n"
          ]
        }
      ]
    },
    {
      "cell_type": "code",
      "metadata": {
        "id": "2mEeg9zRnU57",
        "colab": {
          "base_uri": "https://localhost:8080/"
        },
        "outputId": "e0418f52-fd7d-4280-c17b-7bbcf453ae3e"
      },
      "source": [
        "interpreter = tf.lite.Interpreter('model.tflite')\n",
        "interpreter.allocate_tensors()\n",
        "\n",
        "print(interpreter.get_input_details())\n",
        "print(interpreter.get_output_details())"
      ],
      "execution_count": null,
      "outputs": [
        {
          "output_type": "stream",
          "name": "stdout",
          "text": [
            "[{'name': 'serving_default_dense_input:0', 'index': 0, 'shape': array([ 1, 40], dtype=int32), 'shape_signature': array([-1, 40], dtype=int32), 'dtype': <class 'numpy.float32'>, 'quantization': (0.0, 0), 'quantization_parameters': {'scales': array([], dtype=float32), 'zero_points': array([], dtype=int32), 'quantized_dimension': 0}, 'sparsity_parameters': {}}]\n",
            "[{'name': 'StatefulPartitionedCall:0', 'index': 13, 'shape': array([1, 5], dtype=int32), 'shape_signature': array([-1,  5], dtype=int32), 'dtype': <class 'numpy.float32'>, 'quantization': (0.0, 0), 'quantization_parameters': {'scales': array([], dtype=float32), 'zero_points': array([], dtype=int32), 'quantized_dimension': 0}, 'sparsity_parameters': {}}]\n"
          ]
        }
      ]
    },
    {
      "cell_type": "code",
      "metadata": {
        "id": "63rsrQUn8Usi",
        "colab": {
          "base_uri": "https://localhost:8080/"
        },
        "outputId": "9b61125e-e0d9-4de8-db2f-d96cf433a9c5"
      },
      "source": [
        "y_test[0].shape"
      ],
      "execution_count": null,
      "outputs": [
        {
          "output_type": "execute_result",
          "data": {
            "text/plain": [
              "()"
            ]
          },
          "metadata": {},
          "execution_count": 27
        }
      ]
    },
    {
      "cell_type": "markdown",
      "metadata": {
        "id": "EKJEu81s_7il"
      },
      "source": [
        "#Android Model"
      ]
    },
    {
      "cell_type": "markdown",
      "metadata": {
        "id": "FwrHGKlA2g-J"
      },
      "source": [
        "#SVM Classifier"
      ]
    },
    {
      "cell_type": "markdown",
      "metadata": {
        "id": "C_MCDWNlGEK2"
      },
      "source": [
        "##SVM tanpa tuning"
      ]
    },
    {
      "cell_type": "code",
      "metadata": {
        "id": "ybU7A9622bKN"
      },
      "source": [
        "#Import svm model\n",
        "from sklearn import svm\n",
        "\n",
        "#Create a svm Classifier\n",
        "clf = svm.SVC(kernel='linear', random_state=0) # Linear Kernel\n",
        "\n",
        "#Train the model using the training sets\n",
        "clf.fit(X_train, y_train)\n",
        "\n",
        "#Predict the response for test dataset\n",
        "y_pred = clf.predict(X_test)"
      ],
      "execution_count": null,
      "outputs": []
    },
    {
      "cell_type": "code",
      "metadata": {
        "id": "_pp-sKZe2mo1",
        "colab": {
          "base_uri": "https://localhost:8080/"
        },
        "outputId": "daa78359-6081-4ee4-8f36-ca433230f289"
      },
      "source": [
        "#Import scikit-learn metrics module for accuracy calculation\n",
        "from sklearn import metrics\n",
        "\n",
        "# Model Accuracy: how often is the classifier correct?\n",
        "print(\"Accuracy:\",metrics.accuracy_score(y_test, y_pred))"
      ],
      "execution_count": null,
      "outputs": [
        {
          "output_type": "stream",
          "name": "stdout",
          "text": [
            "Accuracy: 0.94\n"
          ]
        }
      ]
    },
    {
      "cell_type": "code",
      "metadata": {
        "id": "lC0IvgZS2uxD",
        "colab": {
          "base_uri": "https://localhost:8080/"
        },
        "outputId": "30eb80d4-2e88-464f-cbf4-0982358c90b0"
      },
      "source": [
        "# Model Precision: what percentage of positive tuples are labeled as such?\n",
        "print(\"Precision:\",metrics.precision_score(y_test, y_pred, average='micro'))\n",
        "\n",
        "# Model Recall: what percentage of positive tuples are labelled as such?\n",
        "print(\"Recall:\",metrics.recall_score(y_test, y_pred, average='micro'))"
      ],
      "execution_count": null,
      "outputs": [
        {
          "output_type": "stream",
          "name": "stdout",
          "text": [
            "Precision: 0.94\n",
            "Recall: 0.94\n"
          ]
        }
      ]
    },
    {
      "cell_type": "code",
      "metadata": {
        "id": "3f_55Z_HmJPv",
        "colab": {
          "base_uri": "https://localhost:8080/"
        },
        "outputId": "531b07e9-7844-4ddc-b00b-813e5cf1faf9"
      },
      "source": [
        "sensitivity, specificity, accuracy = calculate_sensitivity_specificity(y_test, y_pred)\n",
        "print ('Sensitivity:', sensitivity)\n",
        "print ('Specificity:', specificity)\n",
        "print ('Accuracy:', accuracy)"
      ],
      "execution_count": null,
      "outputs": [
        {
          "output_type": "stream",
          "name": "stdout",
          "text": [
            "Sensitivity: 0.825\n",
            "Specificity: 0.975\n",
            "Accuracy: 0.94\n"
          ]
        }
      ]
    },
    {
      "cell_type": "code",
      "metadata": {
        "id": "9IvlzeWTUpCQ",
        "colab": {
          "base_uri": "https://localhost:8080/"
        },
        "outputId": "5a6a140e-3434-4f3a-ed35-0d92213c5a39"
      },
      "source": [
        "prediksi = clf.predict(X_train)\n",
        "print(prediksi)"
      ],
      "execution_count": null,
      "outputs": [
        {
          "output_type": "stream",
          "name": "stdout",
          "text": [
            "[1 1 4 4 2 4 1 1 4 3 4 0 3 0 1 3 3 3 2 1 2 4 1 3 4 1 1 2 3 0 3 0 2 0 1 3 1\n",
            " 4 0 0 4 2 3 0 3 3 1 3 2 2 2 0 1 4 3 1 1 4 2 1 1 3 4 1 3 4 1 1 1 2 0 0 0 0\n",
            " 2 4 4 3 3 3 0 4 3 0 4 1 0 0 2 4 2 0 1 1 2 0 2 0 4 4 2 1 2 2 2 3 2 0 4 2 2\n",
            " 0 4 1 0 0 3 1 0 1 1 0 2 0 3 0 3 1 2 0 2 2 0 4 2 0 3 3 0 3 2 4 1 0 0 3 1 3\n",
            " 4 3 4 0 2 3 3 1 3 1 3 3 2 1 2 1 4 1 2 0 1 2 4 4 1 2 4 4 0 3 1 2 0 0 2 1 3\n",
            " 2 1 4 4 3 4 0 1 2 4 2 2 2 0 0 2 1 2 3 0 1 2 2 2 4 0 0 3 4 0 1 0 4 0 2 0 0\n",
            " 4 0 3 0 4 3 2 0 4 0 2 1 2 4 2 4 0 0 1 0 4 1 4 0 3 3 3 1 4 3 1 3 0 3 0 0 1\n",
            " 0 3 3 4 1 0 1 1 2 2 1 2 0 2 0 3 2 1 1 4 3 1 2 4 2 3 1 1 4 3 3 1 0 1 3 1 3\n",
            " 0 3 3 0 3 2 1 2 0 4 2 3 4 1 2 0 0 4 3 2 4 1 2 0 3 4 1 0 1 1 3 2 0 4 0 1 4\n",
            " 3 3 2 4 4 2 1 2 0 1 2 4 3 1 1 3 2 3 3 0 0 3 3 4 3 4 2 0 1 1 3 2 0 3 0 3 4\n",
            " 2 3 0 2 4 4 4 2 0 2 2 0 1 0 1 4 3 1 1 2 0 3 4 1 2 1 3 1 2 2 1 0 0 3 0 0 0\n",
            " 4 4 0 1 1 4 1 1 2 4 3 4 4 2 3 2 1 0 0 4 1 1 3 3 4 2 1 3 3 2 3 3 4 4 2 0 1\n",
            " 2 3 4 2 2 2 4 2 1 3 2 2 3 1 0 4 2 3 3 3 0 0 3 1 0 3 4 0 3 4 0 0 3 2 0 2 3\n",
            " 0 3 2 2 1 2 4 0 3 4 3 4 2 1 1 2 2 2 4 2 0 3 1 3 3 1 3 2 0 0 4 4 0 1 1 0 0\n",
            " 2 2 0 1 2 4 0 3 4 0 2 1 4 0 2 0 0 4 3 2 3 1 3 4 3 0 3 1 1 3 2 4 0 4 4 3 2\n",
            " 4 3 0 2 1 2 3 2 4 3 1 0 4 1 0 1 3 2 1 0 1 2 2 4 4 0 2 4 0 0 2 2 0 1 0 2 0\n",
            " 3 3 1 0 1 3 3 1 3 4 3 4 4 3 0 3 3 4 3 2 4 4 3 0 1 0 0 1 0 1 0 1 3 0 4 1 4\n",
            " 1 0 4 3 4 0 4 3 1 2 3 0 0 0 0 2 4 1 2 2 1 4 4 1 0 4 3 1 2 4 4 1 4 1 2 2 1\n",
            " 0 4 3 1 2 3 3 4 4 4 4 1 3 4 2 2 1 4 4 4 4 1 0 4 4 4 4 4 4 0 1 1 2 0 3 2 0\n",
            " 4 4 0 3 2 3 0 3 0 0 1 1 1 4 3 4 1 4 1 1 1 2 3 2 4 2 2 2 4 2 2 4 4 0 0 3 3\n",
            " 0 4 2 3 0 0 1 4 0 4 2 2 2 3 4 1 2 3 1 0 3 3 1 4 2 4 2 1 1 3 4 4 1 2 0 0 0\n",
            " 2 2 2 2 3 4 2 1 4 0 4 4 0 3 0 4 3 4 0 2 1 0 1]\n"
          ]
        }
      ]
    },
    {
      "cell_type": "code",
      "metadata": {
        "id": "Y4yqC7rZmelF"
      },
      "source": [
        "import pickle\n",
        "filename = 'svm1.sav'\n",
        "pickle.dump(clf, open(filename, 'wb'))"
      ],
      "execution_count": null,
      "outputs": []
    },
    {
      "cell_type": "markdown",
      "metadata": {
        "id": "y8yRvoo0GCKv"
      },
      "source": [
        ""
      ]
    },
    {
      "cell_type": "code",
      "metadata": {
        "id": "MkUt4rUxWtpE",
        "colab": {
          "base_uri": "https://localhost:8080/"
        },
        "outputId": "e41b86ff-ce15-49b6-edc4-ca8a39a850a3"
      },
      "source": [
        "from sklearn.metrics import classification_report, confusion_matrix, accuracy_score\n",
        "result = confusion_matrix(y_test, y_pred)\n",
        "print(\"Confusion Matrix:\")\n",
        "print(result)\n",
        "result1 = classification_report(y_test, y_pred, target_names=['Sinyal AS', 'Sinyal MR','Sinyal MS','Sinyal MVP','Sinyal N'])\n",
        "print(\"Classification Report:\",)\n",
        "print (result1)\n",
        "result2 = accuracy_score(y_test,y_pred)\n",
        "print(\"Accuracy:\",result2)"
      ],
      "execution_count": null,
      "outputs": [
        {
          "output_type": "stream",
          "name": "stdout",
          "text": [
            "Confusion Matrix:\n",
            "[[39  0  0  1  0]\n",
            " [ 6 33  0  1  0]\n",
            " [ 1  0 39  0  0]\n",
            " [ 0  2  1 37  0]\n",
            " [ 0  0  0  0 40]]\n",
            "Classification Report:\n",
            "              precision    recall  f1-score   support\n",
            "\n",
            "   Sinyal AS       0.85      0.97      0.91        40\n",
            "   Sinyal MR       0.94      0.82      0.88        40\n",
            "   Sinyal MS       0.97      0.97      0.97        40\n",
            "  Sinyal MVP       0.95      0.93      0.94        40\n",
            "    Sinyal N       1.00      1.00      1.00        40\n",
            "\n",
            "    accuracy                           0.94       200\n",
            "   macro avg       0.94      0.94      0.94       200\n",
            "weighted avg       0.94      0.94      0.94       200\n",
            "\n",
            "Accuracy: 0.94\n"
          ]
        }
      ]
    },
    {
      "cell_type": "markdown",
      "metadata": {
        "id": "Cj8EufIpF_Qt"
      },
      "source": [
        "##SVM TUNING"
      ]
    },
    {
      "cell_type": "code",
      "metadata": {
        "id": "YKUXE9scGP2J",
        "colab": {
          "base_uri": "https://localhost:8080/"
        },
        "outputId": "03534695-1c6a-4b7e-d4e9-3ee9387adaa3"
      },
      "source": [
        "from sklearn.model_selection import GridSearchCV\n",
        "  \n",
        "# defining parameter range\n",
        "param_grid = {'C': [0.1, 1, 10, 100, 1000], \n",
        "              'gamma': [1, 0.1, 0.01, 0.001, 0.0001],\n",
        "              'kernel': ['rbf','linear']} \n",
        "  \n",
        "grid = GridSearchCV(svm.SVC(), param_grid, refit = True, verbose = 10, scoring='accuracy')\n",
        "  \n",
        "# fitting the model for grid search\n",
        "grid.fit(X_train, y_train)"
      ],
      "execution_count": null,
      "outputs": [
        {
          "output_type": "stream",
          "name": "stdout",
          "text": [
            "Fitting 5 folds for each of 50 candidates, totalling 250 fits\n",
            "[CV] C=0.1, gamma=1, kernel=rbf ......................................\n",
            "[CV] .......... C=0.1, gamma=1, kernel=rbf, score=0.281, total=   0.1s\n",
            "[CV] C=0.1, gamma=1, kernel=rbf ......................................\n",
            "[CV] .......... C=0.1, gamma=1, kernel=rbf, score=0.331, total=   0.1s\n",
            "[CV] C=0.1, gamma=1, kernel=rbf ......................................\n"
          ]
        },
        {
          "output_type": "stream",
          "name": "stderr",
          "text": [
            "[Parallel(n_jobs=1)]: Using backend SequentialBackend with 1 concurrent workers.\n",
            "[Parallel(n_jobs=1)]: Done   1 out of   1 | elapsed:    0.1s remaining:    0.0s\n",
            "[Parallel(n_jobs=1)]: Done   2 out of   2 | elapsed:    0.1s remaining:    0.0s\n"
          ]
        },
        {
          "output_type": "stream",
          "name": "stdout",
          "text": [
            "[CV] .......... C=0.1, gamma=1, kernel=rbf, score=0.381, total=   0.1s\n",
            "[CV] C=0.1, gamma=1, kernel=rbf ......................................\n",
            "[CV] .......... C=0.1, gamma=1, kernel=rbf, score=0.338, total=   0.1s\n",
            "[CV] C=0.1, gamma=1, kernel=rbf ......................................\n",
            "[CV] .......... C=0.1, gamma=1, kernel=rbf, score=0.325, total=   0.1s\n",
            "[CV] C=0.1, gamma=1, kernel=linear ...................................\n",
            "[CV] ....... C=0.1, gamma=1, kernel=linear, score=0.925, total=   0.0s\n",
            "[CV] C=0.1, gamma=1, kernel=linear ...................................\n",
            "[CV] ....... C=0.1, gamma=1, kernel=linear, score=0.969, total=   0.0s\n",
            "[CV] C=0.1, gamma=1, kernel=linear ...................................\n",
            "[CV] ....... C=0.1, gamma=1, kernel=linear, score=0.956, total=   0.0s\n",
            "[CV] C=0.1, gamma=1, kernel=linear ...................................\n"
          ]
        },
        {
          "output_type": "stream",
          "name": "stderr",
          "text": [
            "[Parallel(n_jobs=1)]: Done   3 out of   3 | elapsed:    0.2s remaining:    0.0s\n",
            "[Parallel(n_jobs=1)]: Done   4 out of   4 | elapsed:    0.3s remaining:    0.0s\n",
            "[Parallel(n_jobs=1)]: Done   5 out of   5 | elapsed:    0.4s remaining:    0.0s\n",
            "[Parallel(n_jobs=1)]: Done   6 out of   6 | elapsed:    0.4s remaining:    0.0s\n",
            "[Parallel(n_jobs=1)]: Done   7 out of   7 | elapsed:    0.4s remaining:    0.0s\n",
            "[Parallel(n_jobs=1)]: Done   8 out of   8 | elapsed:    0.4s remaining:    0.0s\n"
          ]
        },
        {
          "output_type": "stream",
          "name": "stdout",
          "text": [
            "[CV] ....... C=0.1, gamma=1, kernel=linear, score=0.944, total=   0.0s\n",
            "[CV] C=0.1, gamma=1, kernel=linear ...................................\n",
            "[CV] ....... C=0.1, gamma=1, kernel=linear, score=0.919, total=   0.0s\n",
            "[CV] C=0.1, gamma=0.1, kernel=rbf ....................................\n",
            "[CV] ........ C=0.1, gamma=0.1, kernel=rbf, score=0.887, total=   0.1s\n",
            "[CV] C=0.1, gamma=0.1, kernel=rbf ....................................\n",
            "[CV] ........ C=0.1, gamma=0.1, kernel=rbf, score=0.856, total=   0.1s\n",
            "[CV] C=0.1, gamma=0.1, kernel=rbf ....................................\n",
            "[CV] ........ C=0.1, gamma=0.1, kernel=rbf, score=0.887, total=   0.1s\n",
            "[CV] C=0.1, gamma=0.1, kernel=rbf ....................................\n"
          ]
        },
        {
          "output_type": "stream",
          "name": "stderr",
          "text": [
            "[Parallel(n_jobs=1)]: Done   9 out of   9 | elapsed:    0.4s remaining:    0.0s\n"
          ]
        },
        {
          "output_type": "stream",
          "name": "stdout",
          "text": [
            "[CV] ........ C=0.1, gamma=0.1, kernel=rbf, score=0.887, total=   0.1s\n",
            "[CV] C=0.1, gamma=0.1, kernel=rbf ....................................\n",
            "[CV] ........ C=0.1, gamma=0.1, kernel=rbf, score=0.844, total=   0.1s\n",
            "[CV] C=0.1, gamma=0.1, kernel=linear .................................\n",
            "[CV] ..... C=0.1, gamma=0.1, kernel=linear, score=0.925, total=   0.0s\n",
            "[CV] C=0.1, gamma=0.1, kernel=linear .................................\n",
            "[CV] ..... C=0.1, gamma=0.1, kernel=linear, score=0.969, total=   0.0s\n",
            "[CV] C=0.1, gamma=0.1, kernel=linear .................................\n",
            "[CV] ..... C=0.1, gamma=0.1, kernel=linear, score=0.956, total=   0.0s\n",
            "[CV] C=0.1, gamma=0.1, kernel=linear .................................\n",
            "[CV] ..... C=0.1, gamma=0.1, kernel=linear, score=0.944, total=   0.0s\n",
            "[CV] C=0.1, gamma=0.1, kernel=linear .................................\n",
            "[CV] ..... C=0.1, gamma=0.1, kernel=linear, score=0.919, total=   0.0s\n",
            "[CV] C=0.1, gamma=0.01, kernel=rbf ...................................\n",
            "[CV] ....... C=0.1, gamma=0.01, kernel=rbf, score=0.787, total=   0.1s\n",
            "[CV] C=0.1, gamma=0.01, kernel=rbf ...................................\n",
            "[CV] ....... C=0.1, gamma=0.01, kernel=rbf, score=0.775, total=   0.1s\n",
            "[CV] C=0.1, gamma=0.01, kernel=rbf ...................................\n",
            "[CV] ....... C=0.1, gamma=0.01, kernel=rbf, score=0.775, total=   0.0s\n",
            "[CV] C=0.1, gamma=0.01, kernel=rbf ...................................\n",
            "[CV] ....... C=0.1, gamma=0.01, kernel=rbf, score=0.844, total=   0.1s\n",
            "[CV] C=0.1, gamma=0.01, kernel=rbf ...................................\n",
            "[CV] ....... C=0.1, gamma=0.01, kernel=rbf, score=0.787, total=   0.0s\n",
            "[CV] C=0.1, gamma=0.01, kernel=linear ................................\n",
            "[CV] .... C=0.1, gamma=0.01, kernel=linear, score=0.925, total=   0.0s\n",
            "[CV] C=0.1, gamma=0.01, kernel=linear ................................\n",
            "[CV] .... C=0.1, gamma=0.01, kernel=linear, score=0.969, total=   0.0s\n",
            "[CV] C=0.1, gamma=0.01, kernel=linear ................................\n",
            "[CV] .... C=0.1, gamma=0.01, kernel=linear, score=0.956, total=   0.0s\n",
            "[CV] C=0.1, gamma=0.01, kernel=linear ................................\n",
            "[CV] .... C=0.1, gamma=0.01, kernel=linear, score=0.944, total=   0.0s\n",
            "[CV] C=0.1, gamma=0.01, kernel=linear ................................\n",
            "[CV] .... C=0.1, gamma=0.01, kernel=linear, score=0.919, total=   0.0s\n",
            "[CV] C=0.1, gamma=0.001, kernel=rbf ..................................\n",
            "[CV] ...... C=0.1, gamma=0.001, kernel=rbf, score=0.656, total=   0.1s\n",
            "[CV] C=0.1, gamma=0.001, kernel=rbf ..................................\n",
            "[CV] ...... C=0.1, gamma=0.001, kernel=rbf, score=0.725, total=   0.1s\n",
            "[CV] C=0.1, gamma=0.001, kernel=rbf ..................................\n",
            "[CV] ...... C=0.1, gamma=0.001, kernel=rbf, score=0.700, total=   0.1s\n",
            "[CV] C=0.1, gamma=0.001, kernel=rbf ..................................\n",
            "[CV] ...... C=0.1, gamma=0.001, kernel=rbf, score=0.769, total=   0.1s\n",
            "[CV] C=0.1, gamma=0.001, kernel=rbf ..................................\n",
            "[CV] ...... C=0.1, gamma=0.001, kernel=rbf, score=0.700, total=   0.1s\n",
            "[CV] C=0.1, gamma=0.001, kernel=linear ...............................\n",
            "[CV] ... C=0.1, gamma=0.001, kernel=linear, score=0.925, total=   0.0s\n",
            "[CV] C=0.1, gamma=0.001, kernel=linear ...............................\n",
            "[CV] ... C=0.1, gamma=0.001, kernel=linear, score=0.969, total=   0.0s\n",
            "[CV] C=0.1, gamma=0.001, kernel=linear ...............................\n",
            "[CV] ... C=0.1, gamma=0.001, kernel=linear, score=0.956, total=   0.0s\n",
            "[CV] C=0.1, gamma=0.001, kernel=linear ...............................\n",
            "[CV] ... C=0.1, gamma=0.001, kernel=linear, score=0.944, total=   0.0s\n",
            "[CV] C=0.1, gamma=0.001, kernel=linear ...............................\n",
            "[CV] ... C=0.1, gamma=0.001, kernel=linear, score=0.919, total=   0.0s\n",
            "[CV] C=0.1, gamma=0.0001, kernel=rbf .................................\n",
            "[CV] ..... C=0.1, gamma=0.0001, kernel=rbf, score=0.644, total=   0.1s\n",
            "[CV] C=0.1, gamma=0.0001, kernel=rbf .................................\n",
            "[CV] ..... C=0.1, gamma=0.0001, kernel=rbf, score=0.713, total=   0.1s\n",
            "[CV] C=0.1, gamma=0.0001, kernel=rbf .................................\n",
            "[CV] ..... C=0.1, gamma=0.0001, kernel=rbf, score=0.700, total=   0.1s\n",
            "[CV] C=0.1, gamma=0.0001, kernel=rbf .................................\n",
            "[CV] ..... C=0.1, gamma=0.0001, kernel=rbf, score=0.769, total=   0.1s\n",
            "[CV] C=0.1, gamma=0.0001, kernel=rbf .................................\n",
            "[CV] ..... C=0.1, gamma=0.0001, kernel=rbf, score=0.725, total=   0.1s\n",
            "[CV] C=0.1, gamma=0.0001, kernel=linear ..............................\n",
            "[CV] .. C=0.1, gamma=0.0001, kernel=linear, score=0.925, total=   0.0s\n",
            "[CV] C=0.1, gamma=0.0001, kernel=linear ..............................\n",
            "[CV] .. C=0.1, gamma=0.0001, kernel=linear, score=0.969, total=   0.0s\n",
            "[CV] C=0.1, gamma=0.0001, kernel=linear ..............................\n",
            "[CV] .. C=0.1, gamma=0.0001, kernel=linear, score=0.956, total=   0.0s\n",
            "[CV] C=0.1, gamma=0.0001, kernel=linear ..............................\n",
            "[CV] .. C=0.1, gamma=0.0001, kernel=linear, score=0.944, total=   0.0s\n",
            "[CV] C=0.1, gamma=0.0001, kernel=linear ..............................\n",
            "[CV] .. C=0.1, gamma=0.0001, kernel=linear, score=0.919, total=   0.0s\n",
            "[CV] C=1, gamma=1, kernel=rbf ........................................\n",
            "[CV] ............ C=1, gamma=1, kernel=rbf, score=0.700, total=   0.1s\n",
            "[CV] C=1, gamma=1, kernel=rbf ........................................\n",
            "[CV] ............ C=1, gamma=1, kernel=rbf, score=0.725, total=   0.1s\n",
            "[CV] C=1, gamma=1, kernel=rbf ........................................\n",
            "[CV] ............ C=1, gamma=1, kernel=rbf, score=0.713, total=   0.1s\n",
            "[CV] C=1, gamma=1, kernel=rbf ........................................\n",
            "[CV] ............ C=1, gamma=1, kernel=rbf, score=0.681, total=   0.1s\n",
            "[CV] C=1, gamma=1, kernel=rbf ........................................\n",
            "[CV] ............ C=1, gamma=1, kernel=rbf, score=0.606, total=   0.1s\n",
            "[CV] C=1, gamma=1, kernel=linear .....................................\n",
            "[CV] ......... C=1, gamma=1, kernel=linear, score=0.938, total=   0.0s\n",
            "[CV] C=1, gamma=1, kernel=linear .....................................\n",
            "[CV] ......... C=1, gamma=1, kernel=linear, score=0.975, total=   0.0s\n",
            "[CV] C=1, gamma=1, kernel=linear .....................................\n",
            "[CV] ......... C=1, gamma=1, kernel=linear, score=0.963, total=   0.0s\n",
            "[CV] C=1, gamma=1, kernel=linear .....................................\n",
            "[CV] ......... C=1, gamma=1, kernel=linear, score=0.944, total=   0.0s\n",
            "[CV] C=1, gamma=1, kernel=linear .....................................\n",
            "[CV] ......... C=1, gamma=1, kernel=linear, score=0.969, total=   0.0s\n",
            "[CV] C=1, gamma=0.1, kernel=rbf ......................................\n",
            "[CV] .......... C=1, gamma=0.1, kernel=rbf, score=1.000, total=   0.1s\n",
            "[CV] C=1, gamma=0.1, kernel=rbf ......................................\n",
            "[CV] .......... C=1, gamma=0.1, kernel=rbf, score=0.975, total=   0.0s\n",
            "[CV] C=1, gamma=0.1, kernel=rbf ......................................\n",
            "[CV] .......... C=1, gamma=0.1, kernel=rbf, score=1.000, total=   0.0s\n",
            "[CV] C=1, gamma=0.1, kernel=rbf ......................................\n",
            "[CV] .......... C=1, gamma=0.1, kernel=rbf, score=0.988, total=   0.1s\n",
            "[CV] C=1, gamma=0.1, kernel=rbf ......................................\n",
            "[CV] .......... C=1, gamma=0.1, kernel=rbf, score=0.988, total=   0.0s\n",
            "[CV] C=1, gamma=0.1, kernel=linear ...................................\n",
            "[CV] ....... C=1, gamma=0.1, kernel=linear, score=0.938, total=   0.0s\n",
            "[CV] C=1, gamma=0.1, kernel=linear ...................................\n",
            "[CV] ....... C=1, gamma=0.1, kernel=linear, score=0.975, total=   0.0s\n",
            "[CV] C=1, gamma=0.1, kernel=linear ...................................\n",
            "[CV] ....... C=1, gamma=0.1, kernel=linear, score=0.963, total=   0.0s\n",
            "[CV] C=1, gamma=0.1, kernel=linear ...................................\n",
            "[CV] ....... C=1, gamma=0.1, kernel=linear, score=0.944, total=   0.0s\n",
            "[CV] C=1, gamma=0.1, kernel=linear ...................................\n",
            "[CV] ....... C=1, gamma=0.1, kernel=linear, score=0.969, total=   0.0s\n",
            "[CV] C=1, gamma=0.01, kernel=rbf .....................................\n",
            "[CV] ......... C=1, gamma=0.01, kernel=rbf, score=0.944, total=   0.0s\n",
            "[CV] C=1, gamma=0.01, kernel=rbf .....................................\n",
            "[CV] ......... C=1, gamma=0.01, kernel=rbf, score=0.956, total=   0.0s\n",
            "[CV] C=1, gamma=0.01, kernel=rbf .....................................\n",
            "[CV] ......... C=1, gamma=0.01, kernel=rbf, score=0.963, total=   0.0s\n",
            "[CV] C=1, gamma=0.01, kernel=rbf .....................................\n",
            "[CV] ......... C=1, gamma=0.01, kernel=rbf, score=0.944, total=   0.0s\n",
            "[CV] C=1, gamma=0.01, kernel=rbf .....................................\n",
            "[CV] ......... C=1, gamma=0.01, kernel=rbf, score=0.906, total=   0.0s\n",
            "[CV] C=1, gamma=0.01, kernel=linear ..................................\n",
            "[CV] ...... C=1, gamma=0.01, kernel=linear, score=0.938, total=   0.0s\n",
            "[CV] C=1, gamma=0.01, kernel=linear ..................................\n",
            "[CV] ...... C=1, gamma=0.01, kernel=linear, score=0.975, total=   0.0s\n",
            "[CV] C=1, gamma=0.01, kernel=linear ..................................\n",
            "[CV] ...... C=1, gamma=0.01, kernel=linear, score=0.963, total=   0.0s\n",
            "[CV] C=1, gamma=0.01, kernel=linear ..................................\n",
            "[CV] ...... C=1, gamma=0.01, kernel=linear, score=0.944, total=   0.0s\n",
            "[CV] C=1, gamma=0.01, kernel=linear ..................................\n",
            "[CV] ...... C=1, gamma=0.01, kernel=linear, score=0.969, total=   0.0s\n",
            "[CV] C=1, gamma=0.001, kernel=rbf ....................................\n",
            "[CV] ........ C=1, gamma=0.001, kernel=rbf, score=0.794, total=   0.0s\n",
            "[CV] C=1, gamma=0.001, kernel=rbf ....................................\n",
            "[CV] ........ C=1, gamma=0.001, kernel=rbf, score=0.825, total=   0.1s\n",
            "[CV] C=1, gamma=0.001, kernel=rbf ....................................\n",
            "[CV] ........ C=1, gamma=0.001, kernel=rbf, score=0.794, total=   0.0s\n",
            "[CV] C=1, gamma=0.001, kernel=rbf ....................................\n",
            "[CV] ........ C=1, gamma=0.001, kernel=rbf, score=0.869, total=   0.0s\n",
            "[CV] C=1, gamma=0.001, kernel=rbf ....................................\n",
            "[CV] ........ C=1, gamma=0.001, kernel=rbf, score=0.806, total=   0.0s\n",
            "[CV] C=1, gamma=0.001, kernel=linear .................................\n",
            "[CV] ..... C=1, gamma=0.001, kernel=linear, score=0.938, total=   0.0s\n",
            "[CV] C=1, gamma=0.001, kernel=linear .................................\n",
            "[CV] ..... C=1, gamma=0.001, kernel=linear, score=0.975, total=   0.0s\n",
            "[CV] C=1, gamma=0.001, kernel=linear .................................\n",
            "[CV] ..... C=1, gamma=0.001, kernel=linear, score=0.963, total=   0.0s\n",
            "[CV] C=1, gamma=0.001, kernel=linear .................................\n",
            "[CV] ..... C=1, gamma=0.001, kernel=linear, score=0.944, total=   0.0s\n",
            "[CV] C=1, gamma=0.001, kernel=linear .................................\n",
            "[CV] ..... C=1, gamma=0.001, kernel=linear, score=0.969, total=   0.0s\n",
            "[CV] C=1, gamma=0.0001, kernel=rbf ...................................\n",
            "[CV] ....... C=1, gamma=0.0001, kernel=rbf, score=0.650, total=   0.1s\n",
            "[CV] C=1, gamma=0.0001, kernel=rbf ...................................\n",
            "[CV] ....... C=1, gamma=0.0001, kernel=rbf, score=0.725, total=   0.1s\n",
            "[CV] C=1, gamma=0.0001, kernel=rbf ...................................\n",
            "[CV] ....... C=1, gamma=0.0001, kernel=rbf, score=0.706, total=   0.1s\n",
            "[CV] C=1, gamma=0.0001, kernel=rbf ...................................\n",
            "[CV] ....... C=1, gamma=0.0001, kernel=rbf, score=0.775, total=   0.1s\n",
            "[CV] C=1, gamma=0.0001, kernel=rbf ...................................\n",
            "[CV] ....... C=1, gamma=0.0001, kernel=rbf, score=0.731, total=   0.1s\n",
            "[CV] C=1, gamma=0.0001, kernel=linear ................................\n",
            "[CV] .... C=1, gamma=0.0001, kernel=linear, score=0.938, total=   0.0s\n",
            "[CV] C=1, gamma=0.0001, kernel=linear ................................\n",
            "[CV] .... C=1, gamma=0.0001, kernel=linear, score=0.975, total=   0.0s\n",
            "[CV] C=1, gamma=0.0001, kernel=linear ................................\n",
            "[CV] .... C=1, gamma=0.0001, kernel=linear, score=0.963, total=   0.0s\n",
            "[CV] C=1, gamma=0.0001, kernel=linear ................................\n",
            "[CV] .... C=1, gamma=0.0001, kernel=linear, score=0.944, total=   0.0s\n",
            "[CV] C=1, gamma=0.0001, kernel=linear ................................\n",
            "[CV] .... C=1, gamma=0.0001, kernel=linear, score=0.969, total=   0.0s\n",
            "[CV] C=10, gamma=1, kernel=rbf .......................................\n",
            "[CV] ........... C=10, gamma=1, kernel=rbf, score=0.719, total=   0.1s\n",
            "[CV] C=10, gamma=1, kernel=rbf .......................................\n",
            "[CV] ........... C=10, gamma=1, kernel=rbf, score=0.738, total=   0.1s\n",
            "[CV] C=10, gamma=1, kernel=rbf .......................................\n",
            "[CV] ........... C=10, gamma=1, kernel=rbf, score=0.744, total=   0.1s\n",
            "[CV] C=10, gamma=1, kernel=rbf .......................................\n",
            "[CV] ........... C=10, gamma=1, kernel=rbf, score=0.706, total=   0.1s\n",
            "[CV] C=10, gamma=1, kernel=rbf .......................................\n",
            "[CV] ........... C=10, gamma=1, kernel=rbf, score=0.631, total=   0.1s\n",
            "[CV] C=10, gamma=1, kernel=linear ....................................\n",
            "[CV] ........ C=10, gamma=1, kernel=linear, score=0.919, total=   0.0s\n",
            "[CV] C=10, gamma=1, kernel=linear ....................................\n",
            "[CV] ........ C=10, gamma=1, kernel=linear, score=0.944, total=   0.0s\n",
            "[CV] C=10, gamma=1, kernel=linear ....................................\n",
            "[CV] ........ C=10, gamma=1, kernel=linear, score=0.963, total=   0.0s\n",
            "[CV] C=10, gamma=1, kernel=linear ....................................\n",
            "[CV] ........ C=10, gamma=1, kernel=linear, score=0.950, total=   0.0s\n",
            "[CV] C=10, gamma=1, kernel=linear ....................................\n",
            "[CV] ........ C=10, gamma=1, kernel=linear, score=0.950, total=   0.0s\n",
            "[CV] C=10, gamma=0.1, kernel=rbf .....................................\n",
            "[CV] ......... C=10, gamma=0.1, kernel=rbf, score=1.000, total=   0.0s\n",
            "[CV] C=10, gamma=0.1, kernel=rbf .....................................\n",
            "[CV] ......... C=10, gamma=0.1, kernel=rbf, score=0.975, total=   0.0s\n",
            "[CV] C=10, gamma=0.1, kernel=rbf .....................................\n",
            "[CV] ......... C=10, gamma=0.1, kernel=rbf, score=1.000, total=   0.1s\n",
            "[CV] C=10, gamma=0.1, kernel=rbf .....................................\n",
            "[CV] ......... C=10, gamma=0.1, kernel=rbf, score=0.988, total=   0.0s\n",
            "[CV] C=10, gamma=0.1, kernel=rbf .....................................\n",
            "[CV] ......... C=10, gamma=0.1, kernel=rbf, score=0.994, total=   0.0s\n",
            "[CV] C=10, gamma=0.1, kernel=linear ..................................\n",
            "[CV] ...... C=10, gamma=0.1, kernel=linear, score=0.919, total=   0.0s\n",
            "[CV] C=10, gamma=0.1, kernel=linear ..................................\n",
            "[CV] ...... C=10, gamma=0.1, kernel=linear, score=0.944, total=   0.0s\n",
            "[CV] C=10, gamma=0.1, kernel=linear ..................................\n",
            "[CV] ...... C=10, gamma=0.1, kernel=linear, score=0.963, total=   0.0s\n",
            "[CV] C=10, gamma=0.1, kernel=linear ..................................\n",
            "[CV] ...... C=10, gamma=0.1, kernel=linear, score=0.950, total=   0.0s\n",
            "[CV] C=10, gamma=0.1, kernel=linear ..................................\n",
            "[CV] ...... C=10, gamma=0.1, kernel=linear, score=0.950, total=   0.0s\n",
            "[CV] C=10, gamma=0.01, kernel=rbf ....................................\n",
            "[CV] ........ C=10, gamma=0.01, kernel=rbf, score=0.994, total=   0.0s\n",
            "[CV] C=10, gamma=0.01, kernel=rbf ....................................\n",
            "[CV] ........ C=10, gamma=0.01, kernel=rbf, score=0.994, total=   0.0s\n",
            "[CV] C=10, gamma=0.01, kernel=rbf ....................................\n",
            "[CV] ........ C=10, gamma=0.01, kernel=rbf, score=1.000, total=   0.0s\n",
            "[CV] C=10, gamma=0.01, kernel=rbf ....................................\n",
            "[CV] ........ C=10, gamma=0.01, kernel=rbf, score=0.981, total=   0.0s\n",
            "[CV] C=10, gamma=0.01, kernel=rbf ....................................\n",
            "[CV] ........ C=10, gamma=0.01, kernel=rbf, score=0.994, total=   0.0s\n",
            "[CV] C=10, gamma=0.01, kernel=linear .................................\n",
            "[CV] ..... C=10, gamma=0.01, kernel=linear, score=0.919, total=   0.0s\n",
            "[CV] C=10, gamma=0.01, kernel=linear .................................\n",
            "[CV] ..... C=10, gamma=0.01, kernel=linear, score=0.944, total=   0.0s\n",
            "[CV] C=10, gamma=0.01, kernel=linear .................................\n",
            "[CV] ..... C=10, gamma=0.01, kernel=linear, score=0.963, total=   0.0s\n",
            "[CV] C=10, gamma=0.01, kernel=linear .................................\n",
            "[CV] ..... C=10, gamma=0.01, kernel=linear, score=0.950, total=   0.0s\n",
            "[CV] C=10, gamma=0.01, kernel=linear .................................\n",
            "[CV] ..... C=10, gamma=0.01, kernel=linear, score=0.950, total=   0.0s\n",
            "[CV] C=10, gamma=0.001, kernel=rbf ...................................\n",
            "[CV] ....... C=10, gamma=0.001, kernel=rbf, score=0.919, total=   0.0s\n",
            "[CV] C=10, gamma=0.001, kernel=rbf ...................................\n",
            "[CV] ....... C=10, gamma=0.001, kernel=rbf, score=0.969, total=   0.0s\n",
            "[CV] C=10, gamma=0.001, kernel=rbf ...................................\n",
            "[CV] ....... C=10, gamma=0.001, kernel=rbf, score=0.938, total=   0.0s\n",
            "[CV] C=10, gamma=0.001, kernel=rbf ...................................\n",
            "[CV] ....... C=10, gamma=0.001, kernel=rbf, score=0.944, total=   0.0s\n",
            "[CV] C=10, gamma=0.001, kernel=rbf ...................................\n",
            "[CV] ....... C=10, gamma=0.001, kernel=rbf, score=0.900, total=   0.0s\n",
            "[CV] C=10, gamma=0.001, kernel=linear ................................\n",
            "[CV] .... C=10, gamma=0.001, kernel=linear, score=0.919, total=   0.0s\n",
            "[CV] C=10, gamma=0.001, kernel=linear ................................\n",
            "[CV] .... C=10, gamma=0.001, kernel=linear, score=0.944, total=   0.0s\n",
            "[CV] C=10, gamma=0.001, kernel=linear ................................\n",
            "[CV] .... C=10, gamma=0.001, kernel=linear, score=0.963, total=   0.0s\n",
            "[CV] C=10, gamma=0.001, kernel=linear ................................\n",
            "[CV] .... C=10, gamma=0.001, kernel=linear, score=0.950, total=   0.0s\n",
            "[CV] C=10, gamma=0.001, kernel=linear ................................\n",
            "[CV] .... C=10, gamma=0.001, kernel=linear, score=0.950, total=   0.0s\n",
            "[CV] C=10, gamma=0.0001, kernel=rbf ..................................\n",
            "[CV] ...... C=10, gamma=0.0001, kernel=rbf, score=0.812, total=   0.0s\n",
            "[CV] C=10, gamma=0.0001, kernel=rbf ..................................\n",
            "[CV] ...... C=10, gamma=0.0001, kernel=rbf, score=0.831, total=   0.0s\n",
            "[CV] C=10, gamma=0.0001, kernel=rbf ..................................\n",
            "[CV] ...... C=10, gamma=0.0001, kernel=rbf, score=0.781, total=   0.0s\n",
            "[CV] C=10, gamma=0.0001, kernel=rbf ..................................\n",
            "[CV] ...... C=10, gamma=0.0001, kernel=rbf, score=0.863, total=   0.0s\n",
            "[CV] C=10, gamma=0.0001, kernel=rbf ..................................\n",
            "[CV] ...... C=10, gamma=0.0001, kernel=rbf, score=0.806, total=   0.0s\n",
            "[CV] C=10, gamma=0.0001, kernel=linear ...............................\n",
            "[CV] ... C=10, gamma=0.0001, kernel=linear, score=0.919, total=   0.0s\n",
            "[CV] C=10, gamma=0.0001, kernel=linear ...............................\n",
            "[CV] ... C=10, gamma=0.0001, kernel=linear, score=0.944, total=   0.0s\n",
            "[CV] C=10, gamma=0.0001, kernel=linear ...............................\n",
            "[CV] ... C=10, gamma=0.0001, kernel=linear, score=0.963, total=   0.0s\n",
            "[CV] C=10, gamma=0.0001, kernel=linear ...............................\n",
            "[CV] ... C=10, gamma=0.0001, kernel=linear, score=0.950, total=   0.0s\n",
            "[CV] C=10, gamma=0.0001, kernel=linear ...............................\n",
            "[CV] ... C=10, gamma=0.0001, kernel=linear, score=0.950, total=   0.0s\n",
            "[CV] C=100, gamma=1, kernel=rbf ......................................\n",
            "[CV] .......... C=100, gamma=1, kernel=rbf, score=0.719, total=   0.1s\n",
            "[CV] C=100, gamma=1, kernel=rbf ......................................\n",
            "[CV] .......... C=100, gamma=1, kernel=rbf, score=0.738, total=   0.1s\n",
            "[CV] C=100, gamma=1, kernel=rbf ......................................\n",
            "[CV] .......... C=100, gamma=1, kernel=rbf, score=0.744, total=   0.1s\n",
            "[CV] C=100, gamma=1, kernel=rbf ......................................\n",
            "[CV] .......... C=100, gamma=1, kernel=rbf, score=0.706, total=   0.1s\n",
            "[CV] C=100, gamma=1, kernel=rbf ......................................\n",
            "[CV] .......... C=100, gamma=1, kernel=rbf, score=0.631, total=   0.1s\n",
            "[CV] C=100, gamma=1, kernel=linear ...................................\n",
            "[CV] ....... C=100, gamma=1, kernel=linear, score=0.919, total=   0.0s\n",
            "[CV] C=100, gamma=1, kernel=linear ...................................\n",
            "[CV] ....... C=100, gamma=1, kernel=linear, score=0.944, total=   0.0s\n",
            "[CV] C=100, gamma=1, kernel=linear ...................................\n",
            "[CV] ....... C=100, gamma=1, kernel=linear, score=0.950, total=   0.0s\n",
            "[CV] C=100, gamma=1, kernel=linear ...................................\n",
            "[CV] ....... C=100, gamma=1, kernel=linear, score=0.950, total=   0.0s\n",
            "[CV] C=100, gamma=1, kernel=linear ...................................\n",
            "[CV] ....... C=100, gamma=1, kernel=linear, score=0.944, total=   0.0s\n",
            "[CV] C=100, gamma=0.1, kernel=rbf ....................................\n",
            "[CV] ........ C=100, gamma=0.1, kernel=rbf, score=1.000, total=   0.1s\n",
            "[CV] C=100, gamma=0.1, kernel=rbf ....................................\n",
            "[CV] ........ C=100, gamma=0.1, kernel=rbf, score=0.975, total=   0.0s\n",
            "[CV] C=100, gamma=0.1, kernel=rbf ....................................\n",
            "[CV] ........ C=100, gamma=0.1, kernel=rbf, score=1.000, total=   0.1s\n",
            "[CV] C=100, gamma=0.1, kernel=rbf ....................................\n",
            "[CV] ........ C=100, gamma=0.1, kernel=rbf, score=0.988, total=   0.0s\n",
            "[CV] C=100, gamma=0.1, kernel=rbf ....................................\n",
            "[CV] ........ C=100, gamma=0.1, kernel=rbf, score=0.994, total=   0.0s\n",
            "[CV] C=100, gamma=0.1, kernel=linear .................................\n",
            "[CV] ..... C=100, gamma=0.1, kernel=linear, score=0.919, total=   0.0s\n",
            "[CV] C=100, gamma=0.1, kernel=linear .................................\n",
            "[CV] ..... C=100, gamma=0.1, kernel=linear, score=0.944, total=   0.0s\n",
            "[CV] C=100, gamma=0.1, kernel=linear .................................\n",
            "[CV] ..... C=100, gamma=0.1, kernel=linear, score=0.950, total=   0.0s\n",
            "[CV] C=100, gamma=0.1, kernel=linear .................................\n",
            "[CV] ..... C=100, gamma=0.1, kernel=linear, score=0.950, total=   0.0s\n",
            "[CV] C=100, gamma=0.1, kernel=linear .................................\n",
            "[CV] ..... C=100, gamma=0.1, kernel=linear, score=0.944, total=   0.0s\n",
            "[CV] C=100, gamma=0.01, kernel=rbf ...................................\n",
            "[CV] ....... C=100, gamma=0.01, kernel=rbf, score=1.000, total=   0.0s\n",
            "[CV] C=100, gamma=0.01, kernel=rbf ...................................\n",
            "[CV] ....... C=100, gamma=0.01, kernel=rbf, score=1.000, total=   0.0s\n",
            "[CV] C=100, gamma=0.01, kernel=rbf ...................................\n",
            "[CV] ....... C=100, gamma=0.01, kernel=rbf, score=1.000, total=   0.0s\n",
            "[CV] C=100, gamma=0.01, kernel=rbf ...................................\n",
            "[CV] ....... C=100, gamma=0.01, kernel=rbf, score=0.981, total=   0.0s\n",
            "[CV] C=100, gamma=0.01, kernel=rbf ...................................\n",
            "[CV] ....... C=100, gamma=0.01, kernel=rbf, score=1.000, total=   0.0s\n",
            "[CV] C=100, gamma=0.01, kernel=linear ................................\n",
            "[CV] .... C=100, gamma=0.01, kernel=linear, score=0.919, total=   0.0s\n",
            "[CV] C=100, gamma=0.01, kernel=linear ................................\n",
            "[CV] .... C=100, gamma=0.01, kernel=linear, score=0.944, total=   0.0s\n",
            "[CV] C=100, gamma=0.01, kernel=linear ................................\n",
            "[CV] .... C=100, gamma=0.01, kernel=linear, score=0.950, total=   0.0s\n",
            "[CV] C=100, gamma=0.01, kernel=linear ................................\n",
            "[CV] .... C=100, gamma=0.01, kernel=linear, score=0.950, total=   0.0s\n",
            "[CV] C=100, gamma=0.01, kernel=linear ................................\n",
            "[CV] .... C=100, gamma=0.01, kernel=linear, score=0.944, total=   0.0s\n",
            "[CV] C=100, gamma=0.001, kernel=rbf ..................................\n",
            "[CV] ...... C=100, gamma=0.001, kernel=rbf, score=0.975, total=   0.0s\n",
            "[CV] C=100, gamma=0.001, kernel=rbf ..................................\n",
            "[CV] ...... C=100, gamma=0.001, kernel=rbf, score=0.988, total=   0.0s\n",
            "[CV] C=100, gamma=0.001, kernel=rbf ..................................\n",
            "[CV] ...... C=100, gamma=0.001, kernel=rbf, score=0.988, total=   0.0s\n",
            "[CV] C=100, gamma=0.001, kernel=rbf ..................................\n",
            "[CV] ...... C=100, gamma=0.001, kernel=rbf, score=0.956, total=   0.0s\n",
            "[CV] C=100, gamma=0.001, kernel=rbf ..................................\n",
            "[CV] ...... C=100, gamma=0.001, kernel=rbf, score=0.981, total=   0.0s\n",
            "[CV] C=100, gamma=0.001, kernel=linear ...............................\n",
            "[CV] ... C=100, gamma=0.001, kernel=linear, score=0.919, total=   0.0s\n",
            "[CV] C=100, gamma=0.001, kernel=linear ...............................\n",
            "[CV] ... C=100, gamma=0.001, kernel=linear, score=0.944, total=   0.0s\n",
            "[CV] C=100, gamma=0.001, kernel=linear ...............................\n",
            "[CV] ... C=100, gamma=0.001, kernel=linear, score=0.950, total=   0.0s\n",
            "[CV] C=100, gamma=0.001, kernel=linear ...............................\n",
            "[CV] ... C=100, gamma=0.001, kernel=linear, score=0.950, total=   0.0s\n",
            "[CV] C=100, gamma=0.001, kernel=linear ...............................\n",
            "[CV] ... C=100, gamma=0.001, kernel=linear, score=0.944, total=   0.0s\n",
            "[CV] C=100, gamma=0.0001, kernel=rbf .................................\n",
            "[CV] ..... C=100, gamma=0.0001, kernel=rbf, score=0.894, total=   0.0s\n",
            "[CV] C=100, gamma=0.0001, kernel=rbf .................................\n",
            "[CV] ..... C=100, gamma=0.0001, kernel=rbf, score=0.944, total=   0.0s\n",
            "[CV] C=100, gamma=0.0001, kernel=rbf .................................\n",
            "[CV] ..... C=100, gamma=0.0001, kernel=rbf, score=0.931, total=   0.0s\n",
            "[CV] C=100, gamma=0.0001, kernel=rbf .................................\n",
            "[CV] ..... C=100, gamma=0.0001, kernel=rbf, score=0.938, total=   0.0s\n",
            "[CV] C=100, gamma=0.0001, kernel=rbf .................................\n",
            "[CV] ..... C=100, gamma=0.0001, kernel=rbf, score=0.894, total=   0.0s\n",
            "[CV] C=100, gamma=0.0001, kernel=linear ..............................\n",
            "[CV] .. C=100, gamma=0.0001, kernel=linear, score=0.919, total=   0.0s\n",
            "[CV] C=100, gamma=0.0001, kernel=linear ..............................\n",
            "[CV] .. C=100, gamma=0.0001, kernel=linear, score=0.944, total=   0.0s\n",
            "[CV] C=100, gamma=0.0001, kernel=linear ..............................\n",
            "[CV] .. C=100, gamma=0.0001, kernel=linear, score=0.950, total=   0.0s\n",
            "[CV] C=100, gamma=0.0001, kernel=linear ..............................\n",
            "[CV] .. C=100, gamma=0.0001, kernel=linear, score=0.950, total=   0.0s\n",
            "[CV] C=100, gamma=0.0001, kernel=linear ..............................\n",
            "[CV] .. C=100, gamma=0.0001, kernel=linear, score=0.944, total=   0.0s\n",
            "[CV] C=1000, gamma=1, kernel=rbf .....................................\n",
            "[CV] ......... C=1000, gamma=1, kernel=rbf, score=0.719, total=   0.1s\n",
            "[CV] C=1000, gamma=1, kernel=rbf .....................................\n",
            "[CV] ......... C=1000, gamma=1, kernel=rbf, score=0.738, total=   0.1s\n",
            "[CV] C=1000, gamma=1, kernel=rbf .....................................\n",
            "[CV] ......... C=1000, gamma=1, kernel=rbf, score=0.744, total=   0.1s\n",
            "[CV] C=1000, gamma=1, kernel=rbf .....................................\n",
            "[CV] ......... C=1000, gamma=1, kernel=rbf, score=0.706, total=   0.1s\n",
            "[CV] C=1000, gamma=1, kernel=rbf .....................................\n",
            "[CV] ......... C=1000, gamma=1, kernel=rbf, score=0.631, total=   0.1s\n",
            "[CV] C=1000, gamma=1, kernel=linear ..................................\n",
            "[CV] ...... C=1000, gamma=1, kernel=linear, score=0.919, total=   0.0s\n",
            "[CV] C=1000, gamma=1, kernel=linear ..................................\n",
            "[CV] ...... C=1000, gamma=1, kernel=linear, score=0.944, total=   0.0s\n",
            "[CV] C=1000, gamma=1, kernel=linear ..................................\n",
            "[CV] ...... C=1000, gamma=1, kernel=linear, score=0.950, total=   0.0s\n",
            "[CV] C=1000, gamma=1, kernel=linear ..................................\n",
            "[CV] ...... C=1000, gamma=1, kernel=linear, score=0.950, total=   0.0s\n",
            "[CV] C=1000, gamma=1, kernel=linear ..................................\n",
            "[CV] ...... C=1000, gamma=1, kernel=linear, score=0.944, total=   0.0s\n",
            "[CV] C=1000, gamma=0.1, kernel=rbf ...................................\n",
            "[CV] ....... C=1000, gamma=0.1, kernel=rbf, score=1.000, total=   0.1s\n",
            "[CV] C=1000, gamma=0.1, kernel=rbf ...................................\n",
            "[CV] ....... C=1000, gamma=0.1, kernel=rbf, score=0.975, total=   0.1s\n",
            "[CV] C=1000, gamma=0.1, kernel=rbf ...................................\n",
            "[CV] ....... C=1000, gamma=0.1, kernel=rbf, score=1.000, total=   0.0s\n",
            "[CV] C=1000, gamma=0.1, kernel=rbf ...................................\n",
            "[CV] ....... C=1000, gamma=0.1, kernel=rbf, score=0.988, total=   0.0s\n",
            "[CV] C=1000, gamma=0.1, kernel=rbf ...................................\n",
            "[CV] ....... C=1000, gamma=0.1, kernel=rbf, score=0.994, total=   0.0s\n",
            "[CV] C=1000, gamma=0.1, kernel=linear ................................\n",
            "[CV] .... C=1000, gamma=0.1, kernel=linear, score=0.919, total=   0.0s\n",
            "[CV] C=1000, gamma=0.1, kernel=linear ................................\n",
            "[CV] .... C=1000, gamma=0.1, kernel=linear, score=0.944, total=   0.0s\n",
            "[CV] C=1000, gamma=0.1, kernel=linear ................................\n",
            "[CV] .... C=1000, gamma=0.1, kernel=linear, score=0.950, total=   0.0s\n",
            "[CV] C=1000, gamma=0.1, kernel=linear ................................\n",
            "[CV] .... C=1000, gamma=0.1, kernel=linear, score=0.950, total=   0.0s\n",
            "[CV] C=1000, gamma=0.1, kernel=linear ................................\n",
            "[CV] .... C=1000, gamma=0.1, kernel=linear, score=0.944, total=   0.0s\n",
            "[CV] C=1000, gamma=0.01, kernel=rbf ..................................\n",
            "[CV] ...... C=1000, gamma=0.01, kernel=rbf, score=1.000, total=   0.0s\n",
            "[CV] C=1000, gamma=0.01, kernel=rbf ..................................\n",
            "[CV] ...... C=1000, gamma=0.01, kernel=rbf, score=1.000, total=   0.0s\n",
            "[CV] C=1000, gamma=0.01, kernel=rbf ..................................\n",
            "[CV] ...... C=1000, gamma=0.01, kernel=rbf, score=1.000, total=   0.0s\n",
            "[CV] C=1000, gamma=0.01, kernel=rbf ..................................\n",
            "[CV] ...... C=1000, gamma=0.01, kernel=rbf, score=0.981, total=   0.0s\n",
            "[CV] C=1000, gamma=0.01, kernel=rbf ..................................\n",
            "[CV] ...... C=1000, gamma=0.01, kernel=rbf, score=1.000, total=   0.0s\n",
            "[CV] C=1000, gamma=0.01, kernel=linear ...............................\n",
            "[CV] ... C=1000, gamma=0.01, kernel=linear, score=0.919, total=   0.0s\n",
            "[CV] C=1000, gamma=0.01, kernel=linear ...............................\n",
            "[CV] ... C=1000, gamma=0.01, kernel=linear, score=0.944, total=   0.0s\n",
            "[CV] C=1000, gamma=0.01, kernel=linear ...............................\n",
            "[CV] ... C=1000, gamma=0.01, kernel=linear, score=0.950, total=   0.0s\n",
            "[CV] C=1000, gamma=0.01, kernel=linear ...............................\n",
            "[CV] ... C=1000, gamma=0.01, kernel=linear, score=0.950, total=   0.0s\n",
            "[CV] C=1000, gamma=0.01, kernel=linear ...............................\n",
            "[CV] ... C=1000, gamma=0.01, kernel=linear, score=0.944, total=   0.0s\n",
            "[CV] C=1000, gamma=0.001, kernel=rbf .................................\n",
            "[CV] ..... C=1000, gamma=0.001, kernel=rbf, score=0.988, total=   0.0s\n",
            "[CV] C=1000, gamma=0.001, kernel=rbf .................................\n",
            "[CV] ..... C=1000, gamma=0.001, kernel=rbf, score=0.994, total=   0.0s\n",
            "[CV] C=1000, gamma=0.001, kernel=rbf .................................\n",
            "[CV] ..... C=1000, gamma=0.001, kernel=rbf, score=1.000, total=   0.0s\n",
            "[CV] C=1000, gamma=0.001, kernel=rbf .................................\n",
            "[CV] ..... C=1000, gamma=0.001, kernel=rbf, score=0.975, total=   0.0s\n",
            "[CV] C=1000, gamma=0.001, kernel=rbf .................................\n",
            "[CV] ..... C=1000, gamma=0.001, kernel=rbf, score=0.994, total=   0.0s\n",
            "[CV] C=1000, gamma=0.001, kernel=linear ..............................\n",
            "[CV] .. C=1000, gamma=0.001, kernel=linear, score=0.919, total=   0.0s\n",
            "[CV] C=1000, gamma=0.001, kernel=linear ..............................\n",
            "[CV] .. C=1000, gamma=0.001, kernel=linear, score=0.944, total=   0.0s\n",
            "[CV] C=1000, gamma=0.001, kernel=linear ..............................\n",
            "[CV] .. C=1000, gamma=0.001, kernel=linear, score=0.950, total=   0.0s\n",
            "[CV] C=1000, gamma=0.001, kernel=linear ..............................\n",
            "[CV] .. C=1000, gamma=0.001, kernel=linear, score=0.950, total=   0.0s\n",
            "[CV] C=1000, gamma=0.001, kernel=linear ..............................\n",
            "[CV] .. C=1000, gamma=0.001, kernel=linear, score=0.944, total=   0.0s\n",
            "[CV] C=1000, gamma=0.0001, kernel=rbf ................................\n",
            "[CV] .... C=1000, gamma=0.0001, kernel=rbf, score=0.944, total=   0.0s\n",
            "[CV] C=1000, gamma=0.0001, kernel=rbf ................................\n",
            "[CV] .... C=1000, gamma=0.0001, kernel=rbf, score=0.975, total=   0.0s\n",
            "[CV] C=1000, gamma=0.0001, kernel=rbf ................................\n",
            "[CV] .... C=1000, gamma=0.0001, kernel=rbf, score=0.975, total=   0.0s\n",
            "[CV] C=1000, gamma=0.0001, kernel=rbf ................................\n",
            "[CV] .... C=1000, gamma=0.0001, kernel=rbf, score=0.956, total=   0.0s\n",
            "[CV] C=1000, gamma=0.0001, kernel=rbf ................................\n",
            "[CV] .... C=1000, gamma=0.0001, kernel=rbf, score=0.969, total=   0.0s\n",
            "[CV] C=1000, gamma=0.0001, kernel=linear .............................\n",
            "[CV] . C=1000, gamma=0.0001, kernel=linear, score=0.919, total=   0.0s\n",
            "[CV] C=1000, gamma=0.0001, kernel=linear .............................\n",
            "[CV] . C=1000, gamma=0.0001, kernel=linear, score=0.944, total=   0.0s\n",
            "[CV] C=1000, gamma=0.0001, kernel=linear .............................\n",
            "[CV] . C=1000, gamma=0.0001, kernel=linear, score=0.950, total=   0.0s\n",
            "[CV] C=1000, gamma=0.0001, kernel=linear .............................\n",
            "[CV] . C=1000, gamma=0.0001, kernel=linear, score=0.950, total=   0.0s\n",
            "[CV] C=1000, gamma=0.0001, kernel=linear .............................\n",
            "[CV] . C=1000, gamma=0.0001, kernel=linear, score=0.944, total=   0.0s\n"
          ]
        },
        {
          "output_type": "stream",
          "name": "stderr",
          "text": [
            "[Parallel(n_jobs=1)]: Done 250 out of 250 | elapsed:    9.4s finished\n"
          ]
        },
        {
          "output_type": "execute_result",
          "data": {
            "text/plain": [
              "GridSearchCV(cv=None, error_score=nan,\n",
              "             estimator=SVC(C=1.0, break_ties=False, cache_size=200,\n",
              "                           class_weight=None, coef0=0.0,\n",
              "                           decision_function_shape='ovr', degree=3,\n",
              "                           gamma='scale', kernel='rbf', max_iter=-1,\n",
              "                           probability=False, random_state=None, shrinking=True,\n",
              "                           tol=0.001, verbose=False),\n",
              "             iid='deprecated', n_jobs=None,\n",
              "             param_grid={'C': [0.1, 1, 10, 100, 1000],\n",
              "                         'gamma': [1, 0.1, 0.01, 0.001, 0.0001],\n",
              "                         'kernel': ['rbf', 'linear']},\n",
              "             pre_dispatch='2*n_jobs', refit=True, return_train_score=False,\n",
              "             scoring='accuracy', verbose=10)"
            ]
          },
          "metadata": {},
          "execution_count": 118
        }
      ]
    },
    {
      "cell_type": "code",
      "metadata": {
        "id": "ttDvEMcTG9Hh",
        "colab": {
          "base_uri": "https://localhost:8080/"
        },
        "outputId": "6c6d2fe3-b22d-4542-d5f4-de4ee93448e3"
      },
      "source": [
        "# print best parameter after tuning\n",
        "print(grid.best_params_)\n",
        "  \n",
        "# print how our model looks after hyper-parameter tuning\n",
        "print(grid.best_estimator_)"
      ],
      "execution_count": null,
      "outputs": [
        {
          "output_type": "stream",
          "name": "stdout",
          "text": [
            "{'C': 100, 'gamma': 0.01, 'kernel': 'rbf'}\n",
            "SVC(C=100, break_ties=False, cache_size=200, class_weight=None, coef0=0.0,\n",
            "    decision_function_shape='ovr', degree=3, gamma=0.01, kernel='rbf',\n",
            "    max_iter=-1, probability=False, random_state=None, shrinking=True,\n",
            "    tol=0.001, verbose=False)\n"
          ]
        }
      ]
    },
    {
      "cell_type": "code",
      "metadata": {
        "id": "4sZmihbXnS85"
      },
      "source": [
        "Dataframe = pd.DataFrame(grid.cv_results_)\n",
        "Dataframe = Dataframe.drop(['std_test_score','split4_test_score','split3_test_score','split2_test_score','split1_test_score','split0_test_score','params','std_score_time','mean_score_time','std_fit_time','mean_fit_time'],axis=1)\n",
        "Dataframe.sort_values('rank_test_score', ascending=\"True\")\n",
        "csvpak = Dataframe.sort_values('rank_test_score', ascending=\"True\")\n",
        "csvpak.to_csv('datatuning.csv')\n"
      ],
      "execution_count": null,
      "outputs": []
    },
    {
      "cell_type": "code",
      "metadata": {
        "id": "UDoBq1A4HEYc",
        "colab": {
          "base_uri": "https://localhost:8080/"
        },
        "outputId": "9b6372c9-3e05-4adb-eccc-ba0a579b03a5"
      },
      "source": [
        "grid_predictions = grid.predict(X_test)\n",
        "\n",
        "print(confusion_matrix(y_test, grid_predictions))  \n",
        "# print classification report\n",
        "print(classification_report(y_test, grid_predictions, target_names=['Sinyal AS', 'Sinyal MR','Sinyal MS','Sinyal MVP','Sinyal N']))\n",
        "print(\"Accuracy : \",accuracy_score(y_test, grid_predictions))"
      ],
      "execution_count": null,
      "outputs": [
        {
          "output_type": "stream",
          "name": "stdout",
          "text": [
            "[[40  0  0  0  0]\n",
            " [ 0 40  0  0  0]\n",
            " [ 0  1 39  0  0]\n",
            " [ 0  0  0 40  0]\n",
            " [ 0  0  0  0 40]]\n",
            "              precision    recall  f1-score   support\n",
            "\n",
            "   Sinyal AS       1.00      1.00      1.00        40\n",
            "   Sinyal MR       0.98      1.00      0.99        40\n",
            "   Sinyal MS       1.00      0.97      0.99        40\n",
            "  Sinyal MVP       1.00      1.00      1.00        40\n",
            "    Sinyal N       1.00      1.00      1.00        40\n",
            "\n",
            "    accuracy                           0.99       200\n",
            "   macro avg       1.00      0.99      0.99       200\n",
            "weighted avg       1.00      0.99      0.99       200\n",
            "\n",
            "Accuracy :  0.995\n"
          ]
        }
      ]
    },
    {
      "cell_type": "code",
      "metadata": {
        "id": "EVs76J7on_pl",
        "colab": {
          "base_uri": "https://localhost:8080/"
        },
        "outputId": "ad5b4d37-82b6-480e-c603-b43bb8f387ff"
      },
      "source": [
        "sensitivity, specificity, accuracy = calculate_sensitivity_specificity(y_test, grid_predictions)\n",
        "print ('Sensitivity:', sensitivity)\n",
        "print ('Specificity:', specificity)\n",
        "print ('Accuracy:', accuracy)"
      ],
      "execution_count": null,
      "outputs": [
        {
          "output_type": "stream",
          "name": "stdout",
          "text": [
            "Sensitivity: 1.0\n",
            "Specificity: 1.0\n",
            "Accuracy: 0.995\n"
          ]
        }
      ]
    },
    {
      "cell_type": "markdown",
      "metadata": {
        "id": "D05V4bzk3yQb"
      },
      "source": [
        "#KNN Classifier"
      ]
    },
    {
      "cell_type": "markdown",
      "metadata": {
        "id": "8t9wSMDr5Tbw"
      },
      "source": [
        "\n",
        "\n",
        "```\n",
        "# This is formatted as code\n",
        "```\n",
        "\n",
        "##Jika nilai N=5 (Parameter tuning)"
      ]
    },
    {
      "cell_type": "code",
      "metadata": {
        "id": "ovDvbIsC41fI",
        "colab": {
          "base_uri": "https://localhost:8080/"
        },
        "outputId": "37634a54-0ffe-41cc-dfd3-ad5f961d9c31"
      },
      "source": [
        "from sklearn.neighbors import KNeighborsClassifier\n",
        "classifier = KNeighborsClassifier()\n",
        "classifier.fit(X_train, y_train)"
      ],
      "execution_count": null,
      "outputs": [
        {
          "output_type": "execute_result",
          "data": {
            "text/plain": [
              "KNeighborsClassifier(algorithm='auto', leaf_size=30, metric='minkowski',\n",
              "                     metric_params=None, n_jobs=None, n_neighbors=5, p=2,\n",
              "                     weights='uniform')"
            ]
          },
          "metadata": {},
          "execution_count": 39
        }
      ]
    },
    {
      "cell_type": "code",
      "metadata": {
        "id": "G15HTCdv43Hr"
      },
      "source": [
        "y_pred = classifier.predict(X_test)"
      ],
      "execution_count": null,
      "outputs": []
    },
    {
      "cell_type": "code",
      "metadata": {
        "id": "uIiBix9E452s",
        "colab": {
          "base_uri": "https://localhost:8080/"
        },
        "outputId": "c205ff73-adaa-48be-d44a-1a4ff337aa27"
      },
      "source": [
        "from sklearn.metrics import classification_report, confusion_matrix, accuracy_score\n",
        "result = confusion_matrix(y_test, y_pred)\n",
        "print(\"Confusion Matrix:\")\n",
        "print(result)\n",
        "result1 = classification_report(y_test, y_pred, target_names=['Sinyal AS', 'Sinyal MR','Sinyal MS','Sinyal MVP','Sinyal N'])\n",
        "print(\"Classification Report:\",)\n",
        "print (result1)\n",
        "result2 = accuracy_score(y_test,y_pred)\n",
        "print(\"Accuracy:\",result2)"
      ],
      "execution_count": null,
      "outputs": [
        {
          "output_type": "stream",
          "name": "stdout",
          "text": [
            "Confusion Matrix:\n",
            "[[39  0  1  0  0]\n",
            " [ 2 38  0  0  0]\n",
            " [ 1  1 38  0  0]\n",
            " [ 0  0  0 40  0]\n",
            " [ 0  0  0  0 40]]\n",
            "Classification Report:\n",
            "              precision    recall  f1-score   support\n",
            "\n",
            "   Sinyal AS       0.93      0.97      0.95        40\n",
            "   Sinyal MR       0.97      0.95      0.96        40\n",
            "   Sinyal MS       0.97      0.95      0.96        40\n",
            "  Sinyal MVP       1.00      1.00      1.00        40\n",
            "    Sinyal N       1.00      1.00      1.00        40\n",
            "\n",
            "    accuracy                           0.97       200\n",
            "   macro avg       0.98      0.97      0.98       200\n",
            "weighted avg       0.98      0.97      0.98       200\n",
            "\n",
            "Accuracy: 0.975\n"
          ]
        }
      ]
    },
    {
      "cell_type": "code",
      "metadata": {
        "id": "U3a_xauQoCpR",
        "colab": {
          "base_uri": "https://localhost:8080/"
        },
        "outputId": "0857e43a-3961-498c-86ea-e46547b12bfd"
      },
      "source": [
        "sensitivity, specificity, accuracy = calculate_sensitivity_specificity(y_test, y_pred)\n",
        "print ('Sensitivity:', sensitivity)\n",
        "print ('Specificity:', specificity)\n",
        "print ('Accuracy:', accuracy)"
      ],
      "execution_count": null,
      "outputs": [
        {
          "output_type": "stream",
          "name": "stdout",
          "text": [
            "Sensitivity: 0.95\n",
            "Specificity: 0.975\n",
            "Accuracy: 0.975\n"
          ]
        }
      ]
    },
    {
      "cell_type": "markdown",
      "metadata": {
        "id": "VPRZnQ_V5dMW"
      },
      "source": [
        "## Setelah di Tuning N = ? (Parameter Tuning)"
      ]
    },
    {
      "cell_type": "code",
      "metadata": {
        "colab": {
          "base_uri": "https://localhost:8080/"
        },
        "id": "_danihltMyrE",
        "outputId": "54e4b60c-eec5-41df-ce63-6fcbd1a0543d"
      },
      "source": [
        "knn = KNeighborsClassifier()\n",
        "from sklearn.model_selection import GridSearchCV\n",
        "k_range = list(range(1, 31))\n",
        "param_grid = dict(n_neighbors=k_range)\n",
        "  \n",
        "# defining parameter range\n",
        "grid = GridSearchCV(knn, param_grid, cv=5, scoring='accuracy', return_train_score=False,verbose=1)\n",
        "  \n",
        "# fitting the model for grid search\n",
        "grid_search=grid.fit(X_train, y_train)"
      ],
      "execution_count": null,
      "outputs": [
        {
          "output_type": "stream",
          "name": "stderr",
          "text": [
            "[Parallel(n_jobs=1)]: Using backend SequentialBackend with 1 concurrent workers.\n"
          ]
        },
        {
          "output_type": "stream",
          "name": "stdout",
          "text": [
            "Fitting 5 folds for each of 30 candidates, totalling 150 fits\n"
          ]
        },
        {
          "output_type": "stream",
          "name": "stderr",
          "text": [
            "[Parallel(n_jobs=1)]: Done 150 out of 150 | elapsed:    2.4s finished\n"
          ]
        }
      ]
    },
    {
      "cell_type": "code",
      "metadata": {
        "colab": {
          "base_uri": "https://localhost:8080/"
        },
        "id": "-r8vIy2SNs0y",
        "outputId": "f07a542d-09b5-4696-8629-877aa9602a91"
      },
      "source": [
        "print(grid.best_params_)"
      ],
      "execution_count": null,
      "outputs": [
        {
          "output_type": "stream",
          "name": "stdout",
          "text": [
            "{'n_neighbors': 1}\n"
          ]
        }
      ]
    },
    {
      "cell_type": "code",
      "metadata": {
        "id": "ipG-Cecq5hmQ"
      },
      "source": [
        "y_pred = grid_search.predict(X_test)"
      ],
      "execution_count": null,
      "outputs": []
    },
    {
      "cell_type": "code",
      "metadata": {
        "id": "LrljgKIy5n2T",
        "colab": {
          "base_uri": "https://localhost:8080/"
        },
        "outputId": "7e35984f-0d2c-49bc-b9c1-143717a7a114"
      },
      "source": [
        "from sklearn.metrics import classification_report, confusion_matrix, accuracy_score\n",
        "result = confusion_matrix(y_test, y_pred)\n",
        "print(\"Confusion Matrix:\")\n",
        "print(result)\n",
        "result1 = classification_report(y_test, y_pred, target_names=['Sinyal AS', 'Sinyal MR','Sinyal MS','Sinyal MVP','Sinyal N'])\n",
        "print(\"Classification Report:\",)\n",
        "print (result1)\n",
        "result2 = accuracy_score(y_test,y_pred)\n",
        "print(\"Accuracy:\",result2)"
      ],
      "execution_count": null,
      "outputs": [
        {
          "output_type": "stream",
          "name": "stdout",
          "text": [
            "Confusion Matrix:\n",
            "[[40  0  0  0  0]\n",
            " [ 0 40  0  0  0]\n",
            " [ 1  0 39  0  0]\n",
            " [ 0  0  0 40  0]\n",
            " [ 0  0  0  0 40]]\n",
            "Classification Report:\n",
            "              precision    recall  f1-score   support\n",
            "\n",
            "   Sinyal AS       0.98      1.00      0.99        40\n",
            "   Sinyal MR       1.00      1.00      1.00        40\n",
            "   Sinyal MS       1.00      0.97      0.99        40\n",
            "  Sinyal MVP       1.00      1.00      1.00        40\n",
            "    Sinyal N       1.00      1.00      1.00        40\n",
            "\n",
            "    accuracy                           0.99       200\n",
            "   macro avg       1.00      0.99      0.99       200\n",
            "weighted avg       1.00      0.99      0.99       200\n",
            "\n",
            "Accuracy: 0.995\n"
          ]
        }
      ]
    },
    {
      "cell_type": "code",
      "metadata": {
        "id": "J8z0dLvmoE5s",
        "colab": {
          "base_uri": "https://localhost:8080/"
        },
        "outputId": "e70ab95f-ad73-4c0f-a2d3-b389e1e729e2"
      },
      "source": [
        "sensitivity, specificity, accuracy = calculate_sensitivity_specificity(y_test, y_pred)\n",
        "print ('Sensitivity:', sensitivity)\n",
        "print ('Specificity:', specificity)\n",
        "print ('Accuracy:', accuracy)"
      ],
      "execution_count": null,
      "outputs": [
        {
          "output_type": "stream",
          "name": "stdout",
          "text": [
            "Sensitivity: 1.0\n",
            "Specificity: 1.0\n",
            "Accuracy: 0.995\n"
          ]
        }
      ]
    },
    {
      "cell_type": "markdown",
      "metadata": {
        "id": "KoZetgbVUjof"
      },
      "source": [
        "#Random Forest"
      ]
    },
    {
      "cell_type": "markdown",
      "metadata": {
        "id": "EIvSBy0gfL1E"
      },
      "source": [
        "## Random Forest tanpa tuning"
      ]
    },
    {
      "cell_type": "code",
      "metadata": {
        "id": "5vit-kRjEi9l",
        "colab": {
          "base_uri": "https://localhost:8080/"
        },
        "outputId": "a33a6e78-8052-4cfc-ae32-e2e0375297e9"
      },
      "source": [
        "# Import the model we are using\n",
        "from sklearn.ensemble import RandomForestClassifier\n",
        "# Instantiate model with 1000 decision trees\n",
        "rf = RandomForestClassifier(random_state = 42)\n",
        "# Train the model on training data\n",
        "rf.fit(X_train, y_train)"
      ],
      "execution_count": null,
      "outputs": [
        {
          "output_type": "execute_result",
          "data": {
            "text/plain": [
              "RandomForestClassifier(bootstrap=True, ccp_alpha=0.0, class_weight=None,\n",
              "                       criterion='gini', max_depth=None, max_features='auto',\n",
              "                       max_leaf_nodes=None, max_samples=None,\n",
              "                       min_impurity_decrease=0.0, min_impurity_split=None,\n",
              "                       min_samples_leaf=1, min_samples_split=2,\n",
              "                       min_weight_fraction_leaf=0.0, n_estimators=100,\n",
              "                       n_jobs=None, oob_score=False, random_state=42, verbose=0,\n",
              "                       warm_start=False)"
            ]
          },
          "metadata": {},
          "execution_count": 48
        }
      ]
    },
    {
      "cell_type": "code",
      "metadata": {
        "id": "3sBOCOKwE71I"
      },
      "source": [
        "pred1 = rf.predict(X_test)"
      ],
      "execution_count": null,
      "outputs": []
    },
    {
      "cell_type": "code",
      "metadata": {
        "id": "IOVKQ5KrFNwi",
        "colab": {
          "base_uri": "https://localhost:8080/"
        },
        "outputId": "9cc2807f-726d-4128-d47a-57e3b3b43dcb"
      },
      "source": [
        "from sklearn.metrics import classification_report, confusion_matrix, accuracy_score\n",
        "result = confusion_matrix(y_test, pred1)\n",
        "print(\"Confusion Matrix:\")\n",
        "print(result)\n",
        "result1 = classification_report(y_test, pred1, target_names=['Sinyal AS', 'Sinyal MR','Sinyal MS','Sinyal MVP','Sinyal N'])\n",
        "print(\"Classification Report:\",)\n",
        "print (result1)\n",
        "result2 = accuracy_score(y_test,pred1)\n",
        "print(\"Accuracy:\",result2)"
      ],
      "execution_count": null,
      "outputs": [
        {
          "output_type": "stream",
          "name": "stdout",
          "text": [
            "Confusion Matrix:\n",
            "[[40  0  0  0  0]\n",
            " [ 1 39  0  0  0]\n",
            " [ 0  1 38  0  1]\n",
            " [ 0  0  0 40  0]\n",
            " [ 0  0  0  0 40]]\n",
            "Classification Report:\n",
            "              precision    recall  f1-score   support\n",
            "\n",
            "   Sinyal AS       0.98      1.00      0.99        40\n",
            "   Sinyal MR       0.97      0.97      0.97        40\n",
            "   Sinyal MS       1.00      0.95      0.97        40\n",
            "  Sinyal MVP       1.00      1.00      1.00        40\n",
            "    Sinyal N       0.98      1.00      0.99        40\n",
            "\n",
            "    accuracy                           0.98       200\n",
            "   macro avg       0.99      0.98      0.98       200\n",
            "weighted avg       0.99      0.98      0.98       200\n",
            "\n",
            "Accuracy: 0.985\n"
          ]
        }
      ]
    },
    {
      "cell_type": "code",
      "metadata": {
        "id": "VVa_accFFWrF",
        "colab": {
          "base_uri": "https://localhost:8080/"
        },
        "outputId": "f989d1bb-8644-4b6f-9bed-3bfb757bacc5"
      },
      "source": [
        "sensitivity, specificity, accuracy = calculate_sensitivity_specificity(y_test, pred1)\n",
        "print ('Sensitivity:', sensitivity)\n",
        "print ('Specificity:', specificity)\n",
        "print ('Accuracy:', accuracy)"
      ],
      "execution_count": null,
      "outputs": [
        {
          "output_type": "stream",
          "name": "stdout",
          "text": [
            "Sensitivity: 0.975\n",
            "Specificity: 1.0\n",
            "Accuracy: 0.985\n"
          ]
        }
      ]
    },
    {
      "cell_type": "markdown",
      "metadata": {
        "id": "kUNxOcH2FmMY"
      },
      "source": [
        "## Random Forest GridsearchCV Tuning\n"
      ]
    },
    {
      "cell_type": "code",
      "metadata": {
        "id": "Yo5REvfiFrRI"
      },
      "source": [
        "from sklearn.ensemble import RandomForestClassifier\n",
        "rfc=RandomForestClassifier(random_state=42)"
      ],
      "execution_count": null,
      "outputs": []
    },
    {
      "cell_type": "code",
      "metadata": {
        "id": "WvVVoVWxF-9V"
      },
      "source": [
        "param_grid = { \n",
        "    'n_estimators': [100 ,200, 500, 300, 400 , 500, 600, 700, 800, 900, 1000],\n",
        "    #'max_features': ['auto', 'sqrt', 'log2'],\n",
        "    #'max_depth' : [4,5,6,7,8],\n",
        "    #'criterion' :['gini', 'entropy']\n",
        "}"
      ],
      "execution_count": null,
      "outputs": []
    },
    {
      "cell_type": "code",
      "metadata": {
        "id": "AXAdOU8_GL_F",
        "colab": {
          "base_uri": "https://localhost:8080/"
        },
        "outputId": "b7e489b4-7d59-4d70-dc6c-701fb4a15305"
      },
      "source": [
        "CV_rfc = GridSearchCV(estimator=rfc, param_grid=param_grid, cv= 5, scoring='accuracy')\n",
        "CV_rfc.fit(X_train, y_train)"
      ],
      "execution_count": null,
      "outputs": [
        {
          "output_type": "execute_result",
          "data": {
            "text/plain": [
              "GridSearchCV(cv=5, error_score=nan,\n",
              "             estimator=RandomForestClassifier(bootstrap=True, ccp_alpha=0.0,\n",
              "                                              class_weight=None,\n",
              "                                              criterion='gini', max_depth=None,\n",
              "                                              max_features='auto',\n",
              "                                              max_leaf_nodes=None,\n",
              "                                              max_samples=None,\n",
              "                                              min_impurity_decrease=0.0,\n",
              "                                              min_impurity_split=None,\n",
              "                                              min_samples_leaf=1,\n",
              "                                              min_samples_split=2,\n",
              "                                              min_weight_fraction_leaf=0.0,\n",
              "                                              n_estimators=100, n_jobs=None,\n",
              "                                              oob_score=False, random_state=42,\n",
              "                                              verbose=0, warm_start=False),\n",
              "             iid='deprecated', n_jobs=None,\n",
              "             param_grid={'n_estimators': [100, 200, 500, 300, 400, 500, 600,\n",
              "                                          700, 800, 900, 1000]},\n",
              "             pre_dispatch='2*n_jobs', refit=True, return_train_score=False,\n",
              "             scoring='accuracy', verbose=0)"
            ]
          },
          "metadata": {},
          "execution_count": 54
        }
      ]
    },
    {
      "cell_type": "code",
      "metadata": {
        "id": "70EZFYsDHz7a",
        "colab": {
          "base_uri": "https://localhost:8080/"
        },
        "outputId": "3917dbd4-45fd-49d4-c850-aed5b76a1576"
      },
      "source": [
        "CV_rfc.best_params_"
      ],
      "execution_count": null,
      "outputs": [
        {
          "output_type": "execute_result",
          "data": {
            "text/plain": [
              "{'n_estimators': 1000}"
            ]
          },
          "metadata": {},
          "execution_count": 55
        }
      ]
    },
    {
      "cell_type": "code",
      "metadata": {
        "id": "o6A6GXVZH3LR"
      },
      "source": [
        "#rfc1=RandomForestClassifier(random_state=42, max_features='log2', n_estimators= 200, max_depth=8, criterion='entropy')"
      ],
      "execution_count": null,
      "outputs": []
    },
    {
      "cell_type": "code",
      "metadata": {
        "colab": {
          "base_uri": "https://localhost:8080/",
          "height": 303
        },
        "id": "gNqWZulcb-xQ",
        "outputId": "95776c4f-fbd5-4cc0-90dd-a52ba8aaee31"
      },
      "source": [
        "rfc1 = CV_rfc.fit(X_train, y_train)"
      ],
      "execution_count": null,
      "outputs": [
        {
          "output_type": "error",
          "ename": "KeyboardInterrupt",
          "evalue": "ignored",
          "traceback": [
            "\u001b[0;31m---------------------------------------------------------------------------\u001b[0m",
            "\u001b[0;31mKeyboardInterrupt\u001b[0m                         Traceback (most recent call last)",
            "\u001b[0;32m<ipython-input-57-019f41f5ce4e>\u001b[0m in \u001b[0;36m<module>\u001b[0;34m()\u001b[0m\n\u001b[0;32m----> 1\u001b[0;31m \u001b[0mrfc1\u001b[0m \u001b[0;34m=\u001b[0m \u001b[0mCV_rfc\u001b[0m\u001b[0;34m.\u001b[0m\u001b[0mfit\u001b[0m\u001b[0;34m(\u001b[0m\u001b[0mX_train\u001b[0m\u001b[0;34m,\u001b[0m \u001b[0my_train\u001b[0m\u001b[0;34m)\u001b[0m\u001b[0;34m\u001b[0m\u001b[0;34m\u001b[0m\u001b[0m\n\u001b[0m",
            "\u001b[0;32m/usr/local/lib/python3.7/dist-packages/sklearn/model_selection/_search.py\u001b[0m in \u001b[0;36mfit\u001b[0;34m(self, X, y, groups, **fit_params)\u001b[0m\n\u001b[1;32m    708\u001b[0m                 \u001b[0;32mreturn\u001b[0m \u001b[0mresults\u001b[0m\u001b[0;34m\u001b[0m\u001b[0;34m\u001b[0m\u001b[0m\n\u001b[1;32m    709\u001b[0m \u001b[0;34m\u001b[0m\u001b[0m\n\u001b[0;32m--> 710\u001b[0;31m             \u001b[0mself\u001b[0m\u001b[0;34m.\u001b[0m\u001b[0m_run_search\u001b[0m\u001b[0;34m(\u001b[0m\u001b[0mevaluate_candidates\u001b[0m\u001b[0;34m)\u001b[0m\u001b[0;34m\u001b[0m\u001b[0;34m\u001b[0m\u001b[0m\n\u001b[0m\u001b[1;32m    711\u001b[0m \u001b[0;34m\u001b[0m\u001b[0m\n\u001b[1;32m    712\u001b[0m         \u001b[0;31m# For multi-metric evaluation, store the best_index_, best_params_ and\u001b[0m\u001b[0;34m\u001b[0m\u001b[0;34m\u001b[0m\u001b[0;34m\u001b[0m\u001b[0m\n",
            "\u001b[0;32m/usr/local/lib/python3.7/dist-packages/sklearn/model_selection/_search.py\u001b[0m in \u001b[0;36m_run_search\u001b[0;34m(self, evaluate_candidates)\u001b[0m\n\u001b[1;32m   1149\u001b[0m     \u001b[0;32mdef\u001b[0m \u001b[0m_run_search\u001b[0m\u001b[0;34m(\u001b[0m\u001b[0mself\u001b[0m\u001b[0;34m,\u001b[0m \u001b[0mevaluate_candidates\u001b[0m\u001b[0;34m)\u001b[0m\u001b[0;34m:\u001b[0m\u001b[0;34m\u001b[0m\u001b[0;34m\u001b[0m\u001b[0m\n\u001b[1;32m   1150\u001b[0m         \u001b[0;34m\"\"\"Search all candidates in param_grid\"\"\"\u001b[0m\u001b[0;34m\u001b[0m\u001b[0;34m\u001b[0m\u001b[0m\n\u001b[0;32m-> 1151\u001b[0;31m         \u001b[0mevaluate_candidates\u001b[0m\u001b[0;34m(\u001b[0m\u001b[0mParameterGrid\u001b[0m\u001b[0;34m(\u001b[0m\u001b[0mself\u001b[0m\u001b[0;34m.\u001b[0m\u001b[0mparam_grid\u001b[0m\u001b[0;34m)\u001b[0m\u001b[0;34m)\u001b[0m\u001b[0;34m\u001b[0m\u001b[0;34m\u001b[0m\u001b[0m\n\u001b[0m\u001b[1;32m   1152\u001b[0m \u001b[0;34m\u001b[0m\u001b[0m\n\u001b[1;32m   1153\u001b[0m \u001b[0;34m\u001b[0m\u001b[0m\n",
            "\u001b[0;32m/usr/local/lib/python3.7/dist-packages/sklearn/model_selection/_search.py\u001b[0m in \u001b[0;36mevaluate_candidates\u001b[0;34m(candidate_params)\u001b[0m\n\u001b[1;32m    687\u001b[0m                                \u001b[0;32mfor\u001b[0m \u001b[0mparameters\u001b[0m\u001b[0;34m,\u001b[0m \u001b[0;34m(\u001b[0m\u001b[0mtrain\u001b[0m\u001b[0;34m,\u001b[0m \u001b[0mtest\u001b[0m\u001b[0;34m)\u001b[0m\u001b[0;34m\u001b[0m\u001b[0;34m\u001b[0m\u001b[0m\n\u001b[1;32m    688\u001b[0m                                in product(candidate_params,\n\u001b[0;32m--> 689\u001b[0;31m                                           cv.split(X, y, groups)))\n\u001b[0m\u001b[1;32m    690\u001b[0m \u001b[0;34m\u001b[0m\u001b[0m\n\u001b[1;32m    691\u001b[0m                 \u001b[0;32mif\u001b[0m \u001b[0mlen\u001b[0m\u001b[0;34m(\u001b[0m\u001b[0mout\u001b[0m\u001b[0;34m)\u001b[0m \u001b[0;34m<\u001b[0m \u001b[0;36m1\u001b[0m\u001b[0;34m:\u001b[0m\u001b[0;34m\u001b[0m\u001b[0;34m\u001b[0m\u001b[0m\n",
            "\u001b[0;32m/usr/local/lib/python3.7/dist-packages/joblib/parallel.py\u001b[0m in \u001b[0;36m__call__\u001b[0;34m(self, iterable)\u001b[0m\n\u001b[1;32m   1044\u001b[0m                 \u001b[0mself\u001b[0m\u001b[0;34m.\u001b[0m\u001b[0m_iterating\u001b[0m \u001b[0;34m=\u001b[0m \u001b[0mself\u001b[0m\u001b[0;34m.\u001b[0m\u001b[0m_original_iterator\u001b[0m \u001b[0;32mis\u001b[0m \u001b[0;32mnot\u001b[0m \u001b[0;32mNone\u001b[0m\u001b[0;34m\u001b[0m\u001b[0;34m\u001b[0m\u001b[0m\n\u001b[1;32m   1045\u001b[0m \u001b[0;34m\u001b[0m\u001b[0m\n\u001b[0;32m-> 1046\u001b[0;31m             \u001b[0;32mwhile\u001b[0m \u001b[0mself\u001b[0m\u001b[0;34m.\u001b[0m\u001b[0mdispatch_one_batch\u001b[0m\u001b[0;34m(\u001b[0m\u001b[0miterator\u001b[0m\u001b[0;34m)\u001b[0m\u001b[0;34m:\u001b[0m\u001b[0;34m\u001b[0m\u001b[0;34m\u001b[0m\u001b[0m\n\u001b[0m\u001b[1;32m   1047\u001b[0m                 \u001b[0;32mpass\u001b[0m\u001b[0;34m\u001b[0m\u001b[0;34m\u001b[0m\u001b[0m\n\u001b[1;32m   1048\u001b[0m \u001b[0;34m\u001b[0m\u001b[0m\n",
            "\u001b[0;32m/usr/local/lib/python3.7/dist-packages/joblib/parallel.py\u001b[0m in \u001b[0;36mdispatch_one_batch\u001b[0;34m(self, iterator)\u001b[0m\n\u001b[1;32m    859\u001b[0m                 \u001b[0;32mreturn\u001b[0m \u001b[0;32mFalse\u001b[0m\u001b[0;34m\u001b[0m\u001b[0;34m\u001b[0m\u001b[0m\n\u001b[1;32m    860\u001b[0m             \u001b[0;32melse\u001b[0m\u001b[0;34m:\u001b[0m\u001b[0;34m\u001b[0m\u001b[0;34m\u001b[0m\u001b[0m\n\u001b[0;32m--> 861\u001b[0;31m                 \u001b[0mself\u001b[0m\u001b[0;34m.\u001b[0m\u001b[0m_dispatch\u001b[0m\u001b[0;34m(\u001b[0m\u001b[0mtasks\u001b[0m\u001b[0;34m)\u001b[0m\u001b[0;34m\u001b[0m\u001b[0;34m\u001b[0m\u001b[0m\n\u001b[0m\u001b[1;32m    862\u001b[0m                 \u001b[0;32mreturn\u001b[0m \u001b[0;32mTrue\u001b[0m\u001b[0;34m\u001b[0m\u001b[0;34m\u001b[0m\u001b[0m\n\u001b[1;32m    863\u001b[0m \u001b[0;34m\u001b[0m\u001b[0m\n",
            "\u001b[0;32m/usr/local/lib/python3.7/dist-packages/joblib/parallel.py\u001b[0m in \u001b[0;36m_dispatch\u001b[0;34m(self, batch)\u001b[0m\n\u001b[1;32m    777\u001b[0m         \u001b[0;32mwith\u001b[0m \u001b[0mself\u001b[0m\u001b[0;34m.\u001b[0m\u001b[0m_lock\u001b[0m\u001b[0;34m:\u001b[0m\u001b[0;34m\u001b[0m\u001b[0;34m\u001b[0m\u001b[0m\n\u001b[1;32m    778\u001b[0m             \u001b[0mjob_idx\u001b[0m \u001b[0;34m=\u001b[0m \u001b[0mlen\u001b[0m\u001b[0;34m(\u001b[0m\u001b[0mself\u001b[0m\u001b[0;34m.\u001b[0m\u001b[0m_jobs\u001b[0m\u001b[0;34m)\u001b[0m\u001b[0;34m\u001b[0m\u001b[0;34m\u001b[0m\u001b[0m\n\u001b[0;32m--> 779\u001b[0;31m             \u001b[0mjob\u001b[0m \u001b[0;34m=\u001b[0m \u001b[0mself\u001b[0m\u001b[0;34m.\u001b[0m\u001b[0m_backend\u001b[0m\u001b[0;34m.\u001b[0m\u001b[0mapply_async\u001b[0m\u001b[0;34m(\u001b[0m\u001b[0mbatch\u001b[0m\u001b[0;34m,\u001b[0m \u001b[0mcallback\u001b[0m\u001b[0;34m=\u001b[0m\u001b[0mcb\u001b[0m\u001b[0;34m)\u001b[0m\u001b[0;34m\u001b[0m\u001b[0;34m\u001b[0m\u001b[0m\n\u001b[0m\u001b[1;32m    780\u001b[0m             \u001b[0;31m# A job can complete so quickly than its callback is\u001b[0m\u001b[0;34m\u001b[0m\u001b[0;34m\u001b[0m\u001b[0;34m\u001b[0m\u001b[0m\n\u001b[1;32m    781\u001b[0m             \u001b[0;31m# called before we get here, causing self._jobs to\u001b[0m\u001b[0;34m\u001b[0m\u001b[0;34m\u001b[0m\u001b[0;34m\u001b[0m\u001b[0m\n",
            "\u001b[0;32m/usr/local/lib/python3.7/dist-packages/joblib/_parallel_backends.py\u001b[0m in \u001b[0;36mapply_async\u001b[0;34m(self, func, callback)\u001b[0m\n\u001b[1;32m    206\u001b[0m     \u001b[0;32mdef\u001b[0m \u001b[0mapply_async\u001b[0m\u001b[0;34m(\u001b[0m\u001b[0mself\u001b[0m\u001b[0;34m,\u001b[0m \u001b[0mfunc\u001b[0m\u001b[0;34m,\u001b[0m \u001b[0mcallback\u001b[0m\u001b[0;34m=\u001b[0m\u001b[0;32mNone\u001b[0m\u001b[0;34m)\u001b[0m\u001b[0;34m:\u001b[0m\u001b[0;34m\u001b[0m\u001b[0;34m\u001b[0m\u001b[0m\n\u001b[1;32m    207\u001b[0m         \u001b[0;34m\"\"\"Schedule a func to be run\"\"\"\u001b[0m\u001b[0;34m\u001b[0m\u001b[0;34m\u001b[0m\u001b[0m\n\u001b[0;32m--> 208\u001b[0;31m         \u001b[0mresult\u001b[0m \u001b[0;34m=\u001b[0m \u001b[0mImmediateResult\u001b[0m\u001b[0;34m(\u001b[0m\u001b[0mfunc\u001b[0m\u001b[0;34m)\u001b[0m\u001b[0;34m\u001b[0m\u001b[0;34m\u001b[0m\u001b[0m\n\u001b[0m\u001b[1;32m    209\u001b[0m         \u001b[0;32mif\u001b[0m \u001b[0mcallback\u001b[0m\u001b[0;34m:\u001b[0m\u001b[0;34m\u001b[0m\u001b[0;34m\u001b[0m\u001b[0m\n\u001b[1;32m    210\u001b[0m             \u001b[0mcallback\u001b[0m\u001b[0;34m(\u001b[0m\u001b[0mresult\u001b[0m\u001b[0;34m)\u001b[0m\u001b[0;34m\u001b[0m\u001b[0;34m\u001b[0m\u001b[0m\n",
            "\u001b[0;32m/usr/local/lib/python3.7/dist-packages/joblib/_parallel_backends.py\u001b[0m in \u001b[0;36m__init__\u001b[0;34m(self, batch)\u001b[0m\n\u001b[1;32m    570\u001b[0m         \u001b[0;31m# Don't delay the application, to avoid keeping the input\u001b[0m\u001b[0;34m\u001b[0m\u001b[0;34m\u001b[0m\u001b[0;34m\u001b[0m\u001b[0m\n\u001b[1;32m    571\u001b[0m         \u001b[0;31m# arguments in memory\u001b[0m\u001b[0;34m\u001b[0m\u001b[0;34m\u001b[0m\u001b[0;34m\u001b[0m\u001b[0m\n\u001b[0;32m--> 572\u001b[0;31m         \u001b[0mself\u001b[0m\u001b[0;34m.\u001b[0m\u001b[0mresults\u001b[0m \u001b[0;34m=\u001b[0m \u001b[0mbatch\u001b[0m\u001b[0;34m(\u001b[0m\u001b[0;34m)\u001b[0m\u001b[0;34m\u001b[0m\u001b[0;34m\u001b[0m\u001b[0m\n\u001b[0m\u001b[1;32m    573\u001b[0m \u001b[0;34m\u001b[0m\u001b[0m\n\u001b[1;32m    574\u001b[0m     \u001b[0;32mdef\u001b[0m \u001b[0mget\u001b[0m\u001b[0;34m(\u001b[0m\u001b[0mself\u001b[0m\u001b[0;34m)\u001b[0m\u001b[0;34m:\u001b[0m\u001b[0;34m\u001b[0m\u001b[0;34m\u001b[0m\u001b[0m\n",
            "\u001b[0;32m/usr/local/lib/python3.7/dist-packages/joblib/parallel.py\u001b[0m in \u001b[0;36m__call__\u001b[0;34m(self)\u001b[0m\n\u001b[1;32m    261\u001b[0m         \u001b[0;32mwith\u001b[0m \u001b[0mparallel_backend\u001b[0m\u001b[0;34m(\u001b[0m\u001b[0mself\u001b[0m\u001b[0;34m.\u001b[0m\u001b[0m_backend\u001b[0m\u001b[0;34m,\u001b[0m \u001b[0mn_jobs\u001b[0m\u001b[0;34m=\u001b[0m\u001b[0mself\u001b[0m\u001b[0;34m.\u001b[0m\u001b[0m_n_jobs\u001b[0m\u001b[0;34m)\u001b[0m\u001b[0;34m:\u001b[0m\u001b[0;34m\u001b[0m\u001b[0;34m\u001b[0m\u001b[0m\n\u001b[1;32m    262\u001b[0m             return [func(*args, **kwargs)\n\u001b[0;32m--> 263\u001b[0;31m                     for func, args, kwargs in self.items]\n\u001b[0m\u001b[1;32m    264\u001b[0m \u001b[0;34m\u001b[0m\u001b[0m\n\u001b[1;32m    265\u001b[0m     \u001b[0;32mdef\u001b[0m \u001b[0m__reduce__\u001b[0m\u001b[0;34m(\u001b[0m\u001b[0mself\u001b[0m\u001b[0;34m)\u001b[0m\u001b[0;34m:\u001b[0m\u001b[0;34m\u001b[0m\u001b[0;34m\u001b[0m\u001b[0m\n",
            "\u001b[0;32m/usr/local/lib/python3.7/dist-packages/joblib/parallel.py\u001b[0m in \u001b[0;36m<listcomp>\u001b[0;34m(.0)\u001b[0m\n\u001b[1;32m    261\u001b[0m         \u001b[0;32mwith\u001b[0m \u001b[0mparallel_backend\u001b[0m\u001b[0;34m(\u001b[0m\u001b[0mself\u001b[0m\u001b[0;34m.\u001b[0m\u001b[0m_backend\u001b[0m\u001b[0;34m,\u001b[0m \u001b[0mn_jobs\u001b[0m\u001b[0;34m=\u001b[0m\u001b[0mself\u001b[0m\u001b[0;34m.\u001b[0m\u001b[0m_n_jobs\u001b[0m\u001b[0;34m)\u001b[0m\u001b[0;34m:\u001b[0m\u001b[0;34m\u001b[0m\u001b[0;34m\u001b[0m\u001b[0m\n\u001b[1;32m    262\u001b[0m             return [func(*args, **kwargs)\n\u001b[0;32m--> 263\u001b[0;31m                     for func, args, kwargs in self.items]\n\u001b[0m\u001b[1;32m    264\u001b[0m \u001b[0;34m\u001b[0m\u001b[0m\n\u001b[1;32m    265\u001b[0m     \u001b[0;32mdef\u001b[0m \u001b[0m__reduce__\u001b[0m\u001b[0;34m(\u001b[0m\u001b[0mself\u001b[0m\u001b[0;34m)\u001b[0m\u001b[0;34m:\u001b[0m\u001b[0;34m\u001b[0m\u001b[0;34m\u001b[0m\u001b[0m\n",
            "\u001b[0;32m/usr/local/lib/python3.7/dist-packages/sklearn/model_selection/_validation.py\u001b[0m in \u001b[0;36m_fit_and_score\u001b[0;34m(estimator, X, y, scorer, train, test, verbose, parameters, fit_params, return_train_score, return_parameters, return_n_test_samples, return_times, return_estimator, error_score)\u001b[0m\n\u001b[1;32m    513\u001b[0m             \u001b[0mestimator\u001b[0m\u001b[0;34m.\u001b[0m\u001b[0mfit\u001b[0m\u001b[0;34m(\u001b[0m\u001b[0mX_train\u001b[0m\u001b[0;34m,\u001b[0m \u001b[0;34m**\u001b[0m\u001b[0mfit_params\u001b[0m\u001b[0;34m)\u001b[0m\u001b[0;34m\u001b[0m\u001b[0;34m\u001b[0m\u001b[0m\n\u001b[1;32m    514\u001b[0m         \u001b[0;32melse\u001b[0m\u001b[0;34m:\u001b[0m\u001b[0;34m\u001b[0m\u001b[0;34m\u001b[0m\u001b[0m\n\u001b[0;32m--> 515\u001b[0;31m             \u001b[0mestimator\u001b[0m\u001b[0;34m.\u001b[0m\u001b[0mfit\u001b[0m\u001b[0;34m(\u001b[0m\u001b[0mX_train\u001b[0m\u001b[0;34m,\u001b[0m \u001b[0my_train\u001b[0m\u001b[0;34m,\u001b[0m \u001b[0;34m**\u001b[0m\u001b[0mfit_params\u001b[0m\u001b[0;34m)\u001b[0m\u001b[0;34m\u001b[0m\u001b[0;34m\u001b[0m\u001b[0m\n\u001b[0m\u001b[1;32m    516\u001b[0m \u001b[0;34m\u001b[0m\u001b[0m\n\u001b[1;32m    517\u001b[0m     \u001b[0;32mexcept\u001b[0m \u001b[0mException\u001b[0m \u001b[0;32mas\u001b[0m \u001b[0me\u001b[0m\u001b[0;34m:\u001b[0m\u001b[0;34m\u001b[0m\u001b[0;34m\u001b[0m\u001b[0m\n",
            "\u001b[0;32m/usr/local/lib/python3.7/dist-packages/sklearn/ensemble/_forest.py\u001b[0m in \u001b[0;36mfit\u001b[0;34m(self, X, y, sample_weight)\u001b[0m\n\u001b[1;32m    381\u001b[0m                     \u001b[0mverbose\u001b[0m\u001b[0;34m=\u001b[0m\u001b[0mself\u001b[0m\u001b[0;34m.\u001b[0m\u001b[0mverbose\u001b[0m\u001b[0;34m,\u001b[0m \u001b[0mclass_weight\u001b[0m\u001b[0;34m=\u001b[0m\u001b[0mself\u001b[0m\u001b[0;34m.\u001b[0m\u001b[0mclass_weight\u001b[0m\u001b[0;34m,\u001b[0m\u001b[0;34m\u001b[0m\u001b[0;34m\u001b[0m\u001b[0m\n\u001b[1;32m    382\u001b[0m                     n_samples_bootstrap=n_samples_bootstrap)\n\u001b[0;32m--> 383\u001b[0;31m                 for i, t in enumerate(trees))\n\u001b[0m\u001b[1;32m    384\u001b[0m \u001b[0;34m\u001b[0m\u001b[0m\n\u001b[1;32m    385\u001b[0m             \u001b[0;31m# Collect newly grown trees\u001b[0m\u001b[0;34m\u001b[0m\u001b[0;34m\u001b[0m\u001b[0;34m\u001b[0m\u001b[0m\n",
            "\u001b[0;32m/usr/local/lib/python3.7/dist-packages/joblib/parallel.py\u001b[0m in \u001b[0;36m__call__\u001b[0;34m(self, iterable)\u001b[0m\n\u001b[1;32m   1044\u001b[0m                 \u001b[0mself\u001b[0m\u001b[0;34m.\u001b[0m\u001b[0m_iterating\u001b[0m \u001b[0;34m=\u001b[0m \u001b[0mself\u001b[0m\u001b[0;34m.\u001b[0m\u001b[0m_original_iterator\u001b[0m \u001b[0;32mis\u001b[0m \u001b[0;32mnot\u001b[0m \u001b[0;32mNone\u001b[0m\u001b[0;34m\u001b[0m\u001b[0;34m\u001b[0m\u001b[0m\n\u001b[1;32m   1045\u001b[0m \u001b[0;34m\u001b[0m\u001b[0m\n\u001b[0;32m-> 1046\u001b[0;31m             \u001b[0;32mwhile\u001b[0m \u001b[0mself\u001b[0m\u001b[0;34m.\u001b[0m\u001b[0mdispatch_one_batch\u001b[0m\u001b[0;34m(\u001b[0m\u001b[0miterator\u001b[0m\u001b[0;34m)\u001b[0m\u001b[0;34m:\u001b[0m\u001b[0;34m\u001b[0m\u001b[0;34m\u001b[0m\u001b[0m\n\u001b[0m\u001b[1;32m   1047\u001b[0m                 \u001b[0;32mpass\u001b[0m\u001b[0;34m\u001b[0m\u001b[0;34m\u001b[0m\u001b[0m\n\u001b[1;32m   1048\u001b[0m \u001b[0;34m\u001b[0m\u001b[0m\n",
            "\u001b[0;32m/usr/local/lib/python3.7/dist-packages/joblib/parallel.py\u001b[0m in \u001b[0;36mdispatch_one_batch\u001b[0;34m(self, iterator)\u001b[0m\n\u001b[1;32m    859\u001b[0m                 \u001b[0;32mreturn\u001b[0m \u001b[0;32mFalse\u001b[0m\u001b[0;34m\u001b[0m\u001b[0;34m\u001b[0m\u001b[0m\n\u001b[1;32m    860\u001b[0m             \u001b[0;32melse\u001b[0m\u001b[0;34m:\u001b[0m\u001b[0;34m\u001b[0m\u001b[0;34m\u001b[0m\u001b[0m\n\u001b[0;32m--> 861\u001b[0;31m                 \u001b[0mself\u001b[0m\u001b[0;34m.\u001b[0m\u001b[0m_dispatch\u001b[0m\u001b[0;34m(\u001b[0m\u001b[0mtasks\u001b[0m\u001b[0;34m)\u001b[0m\u001b[0;34m\u001b[0m\u001b[0;34m\u001b[0m\u001b[0m\n\u001b[0m\u001b[1;32m    862\u001b[0m                 \u001b[0;32mreturn\u001b[0m \u001b[0;32mTrue\u001b[0m\u001b[0;34m\u001b[0m\u001b[0;34m\u001b[0m\u001b[0m\n\u001b[1;32m    863\u001b[0m \u001b[0;34m\u001b[0m\u001b[0m\n",
            "\u001b[0;32m/usr/local/lib/python3.7/dist-packages/joblib/parallel.py\u001b[0m in \u001b[0;36m_dispatch\u001b[0;34m(self, batch)\u001b[0m\n\u001b[1;32m    777\u001b[0m         \u001b[0;32mwith\u001b[0m \u001b[0mself\u001b[0m\u001b[0;34m.\u001b[0m\u001b[0m_lock\u001b[0m\u001b[0;34m:\u001b[0m\u001b[0;34m\u001b[0m\u001b[0;34m\u001b[0m\u001b[0m\n\u001b[1;32m    778\u001b[0m             \u001b[0mjob_idx\u001b[0m \u001b[0;34m=\u001b[0m \u001b[0mlen\u001b[0m\u001b[0;34m(\u001b[0m\u001b[0mself\u001b[0m\u001b[0;34m.\u001b[0m\u001b[0m_jobs\u001b[0m\u001b[0;34m)\u001b[0m\u001b[0;34m\u001b[0m\u001b[0;34m\u001b[0m\u001b[0m\n\u001b[0;32m--> 779\u001b[0;31m             \u001b[0mjob\u001b[0m \u001b[0;34m=\u001b[0m \u001b[0mself\u001b[0m\u001b[0;34m.\u001b[0m\u001b[0m_backend\u001b[0m\u001b[0;34m.\u001b[0m\u001b[0mapply_async\u001b[0m\u001b[0;34m(\u001b[0m\u001b[0mbatch\u001b[0m\u001b[0;34m,\u001b[0m \u001b[0mcallback\u001b[0m\u001b[0;34m=\u001b[0m\u001b[0mcb\u001b[0m\u001b[0;34m)\u001b[0m\u001b[0;34m\u001b[0m\u001b[0;34m\u001b[0m\u001b[0m\n\u001b[0m\u001b[1;32m    780\u001b[0m             \u001b[0;31m# A job can complete so quickly than its callback is\u001b[0m\u001b[0;34m\u001b[0m\u001b[0;34m\u001b[0m\u001b[0;34m\u001b[0m\u001b[0m\n\u001b[1;32m    781\u001b[0m             \u001b[0;31m# called before we get here, causing self._jobs to\u001b[0m\u001b[0;34m\u001b[0m\u001b[0;34m\u001b[0m\u001b[0;34m\u001b[0m\u001b[0m\n",
            "\u001b[0;32m/usr/local/lib/python3.7/dist-packages/joblib/_parallel_backends.py\u001b[0m in \u001b[0;36mapply_async\u001b[0;34m(self, func, callback)\u001b[0m\n\u001b[1;32m    206\u001b[0m     \u001b[0;32mdef\u001b[0m \u001b[0mapply_async\u001b[0m\u001b[0;34m(\u001b[0m\u001b[0mself\u001b[0m\u001b[0;34m,\u001b[0m \u001b[0mfunc\u001b[0m\u001b[0;34m,\u001b[0m \u001b[0mcallback\u001b[0m\u001b[0;34m=\u001b[0m\u001b[0;32mNone\u001b[0m\u001b[0;34m)\u001b[0m\u001b[0;34m:\u001b[0m\u001b[0;34m\u001b[0m\u001b[0;34m\u001b[0m\u001b[0m\n\u001b[1;32m    207\u001b[0m         \u001b[0;34m\"\"\"Schedule a func to be run\"\"\"\u001b[0m\u001b[0;34m\u001b[0m\u001b[0;34m\u001b[0m\u001b[0m\n\u001b[0;32m--> 208\u001b[0;31m         \u001b[0mresult\u001b[0m \u001b[0;34m=\u001b[0m \u001b[0mImmediateResult\u001b[0m\u001b[0;34m(\u001b[0m\u001b[0mfunc\u001b[0m\u001b[0;34m)\u001b[0m\u001b[0;34m\u001b[0m\u001b[0;34m\u001b[0m\u001b[0m\n\u001b[0m\u001b[1;32m    209\u001b[0m         \u001b[0;32mif\u001b[0m \u001b[0mcallback\u001b[0m\u001b[0;34m:\u001b[0m\u001b[0;34m\u001b[0m\u001b[0;34m\u001b[0m\u001b[0m\n\u001b[1;32m    210\u001b[0m             \u001b[0mcallback\u001b[0m\u001b[0;34m(\u001b[0m\u001b[0mresult\u001b[0m\u001b[0;34m)\u001b[0m\u001b[0;34m\u001b[0m\u001b[0;34m\u001b[0m\u001b[0m\n",
            "\u001b[0;32m/usr/local/lib/python3.7/dist-packages/joblib/_parallel_backends.py\u001b[0m in \u001b[0;36m__init__\u001b[0;34m(self, batch)\u001b[0m\n\u001b[1;32m    570\u001b[0m         \u001b[0;31m# Don't delay the application, to avoid keeping the input\u001b[0m\u001b[0;34m\u001b[0m\u001b[0;34m\u001b[0m\u001b[0;34m\u001b[0m\u001b[0m\n\u001b[1;32m    571\u001b[0m         \u001b[0;31m# arguments in memory\u001b[0m\u001b[0;34m\u001b[0m\u001b[0;34m\u001b[0m\u001b[0;34m\u001b[0m\u001b[0m\n\u001b[0;32m--> 572\u001b[0;31m         \u001b[0mself\u001b[0m\u001b[0;34m.\u001b[0m\u001b[0mresults\u001b[0m \u001b[0;34m=\u001b[0m \u001b[0mbatch\u001b[0m\u001b[0;34m(\u001b[0m\u001b[0;34m)\u001b[0m\u001b[0;34m\u001b[0m\u001b[0;34m\u001b[0m\u001b[0m\n\u001b[0m\u001b[1;32m    573\u001b[0m \u001b[0;34m\u001b[0m\u001b[0m\n\u001b[1;32m    574\u001b[0m     \u001b[0;32mdef\u001b[0m \u001b[0mget\u001b[0m\u001b[0;34m(\u001b[0m\u001b[0mself\u001b[0m\u001b[0;34m)\u001b[0m\u001b[0;34m:\u001b[0m\u001b[0;34m\u001b[0m\u001b[0;34m\u001b[0m\u001b[0m\n",
            "\u001b[0;32m/usr/local/lib/python3.7/dist-packages/joblib/parallel.py\u001b[0m in \u001b[0;36m__call__\u001b[0;34m(self)\u001b[0m\n\u001b[1;32m    261\u001b[0m         \u001b[0;32mwith\u001b[0m \u001b[0mparallel_backend\u001b[0m\u001b[0;34m(\u001b[0m\u001b[0mself\u001b[0m\u001b[0;34m.\u001b[0m\u001b[0m_backend\u001b[0m\u001b[0;34m,\u001b[0m \u001b[0mn_jobs\u001b[0m\u001b[0;34m=\u001b[0m\u001b[0mself\u001b[0m\u001b[0;34m.\u001b[0m\u001b[0m_n_jobs\u001b[0m\u001b[0;34m)\u001b[0m\u001b[0;34m:\u001b[0m\u001b[0;34m\u001b[0m\u001b[0;34m\u001b[0m\u001b[0m\n\u001b[1;32m    262\u001b[0m             return [func(*args, **kwargs)\n\u001b[0;32m--> 263\u001b[0;31m                     for func, args, kwargs in self.items]\n\u001b[0m\u001b[1;32m    264\u001b[0m \u001b[0;34m\u001b[0m\u001b[0m\n\u001b[1;32m    265\u001b[0m     \u001b[0;32mdef\u001b[0m \u001b[0m__reduce__\u001b[0m\u001b[0;34m(\u001b[0m\u001b[0mself\u001b[0m\u001b[0;34m)\u001b[0m\u001b[0;34m:\u001b[0m\u001b[0;34m\u001b[0m\u001b[0;34m\u001b[0m\u001b[0m\n",
            "\u001b[0;32m/usr/local/lib/python3.7/dist-packages/joblib/parallel.py\u001b[0m in \u001b[0;36m<listcomp>\u001b[0;34m(.0)\u001b[0m\n\u001b[1;32m    261\u001b[0m         \u001b[0;32mwith\u001b[0m \u001b[0mparallel_backend\u001b[0m\u001b[0;34m(\u001b[0m\u001b[0mself\u001b[0m\u001b[0;34m.\u001b[0m\u001b[0m_backend\u001b[0m\u001b[0;34m,\u001b[0m \u001b[0mn_jobs\u001b[0m\u001b[0;34m=\u001b[0m\u001b[0mself\u001b[0m\u001b[0;34m.\u001b[0m\u001b[0m_n_jobs\u001b[0m\u001b[0;34m)\u001b[0m\u001b[0;34m:\u001b[0m\u001b[0;34m\u001b[0m\u001b[0;34m\u001b[0m\u001b[0m\n\u001b[1;32m    262\u001b[0m             return [func(*args, **kwargs)\n\u001b[0;32m--> 263\u001b[0;31m                     for func, args, kwargs in self.items]\n\u001b[0m\u001b[1;32m    264\u001b[0m \u001b[0;34m\u001b[0m\u001b[0m\n\u001b[1;32m    265\u001b[0m     \u001b[0;32mdef\u001b[0m \u001b[0m__reduce__\u001b[0m\u001b[0;34m(\u001b[0m\u001b[0mself\u001b[0m\u001b[0;34m)\u001b[0m\u001b[0;34m:\u001b[0m\u001b[0;34m\u001b[0m\u001b[0;34m\u001b[0m\u001b[0m\n",
            "\u001b[0;32m/usr/local/lib/python3.7/dist-packages/sklearn/ensemble/_forest.py\u001b[0m in \u001b[0;36m_parallel_build_trees\u001b[0;34m(tree, forest, X, y, sample_weight, tree_idx, n_trees, verbose, class_weight, n_samples_bootstrap)\u001b[0m\n\u001b[1;32m    163\u001b[0m             \u001b[0mcurr_sample_weight\u001b[0m \u001b[0;34m*=\u001b[0m \u001b[0mcompute_sample_weight\u001b[0m\u001b[0;34m(\u001b[0m\u001b[0;34m'balanced'\u001b[0m\u001b[0;34m,\u001b[0m \u001b[0my\u001b[0m\u001b[0;34m,\u001b[0m \u001b[0mindices\u001b[0m\u001b[0;34m)\u001b[0m\u001b[0;34m\u001b[0m\u001b[0;34m\u001b[0m\u001b[0m\n\u001b[1;32m    164\u001b[0m \u001b[0;34m\u001b[0m\u001b[0m\n\u001b[0;32m--> 165\u001b[0;31m         \u001b[0mtree\u001b[0m\u001b[0;34m.\u001b[0m\u001b[0mfit\u001b[0m\u001b[0;34m(\u001b[0m\u001b[0mX\u001b[0m\u001b[0;34m,\u001b[0m \u001b[0my\u001b[0m\u001b[0;34m,\u001b[0m \u001b[0msample_weight\u001b[0m\u001b[0;34m=\u001b[0m\u001b[0mcurr_sample_weight\u001b[0m\u001b[0;34m,\u001b[0m \u001b[0mcheck_input\u001b[0m\u001b[0;34m=\u001b[0m\u001b[0;32mFalse\u001b[0m\u001b[0;34m)\u001b[0m\u001b[0;34m\u001b[0m\u001b[0;34m\u001b[0m\u001b[0m\n\u001b[0m\u001b[1;32m    166\u001b[0m     \u001b[0;32melse\u001b[0m\u001b[0;34m:\u001b[0m\u001b[0;34m\u001b[0m\u001b[0;34m\u001b[0m\u001b[0m\n\u001b[1;32m    167\u001b[0m         \u001b[0mtree\u001b[0m\u001b[0;34m.\u001b[0m\u001b[0mfit\u001b[0m\u001b[0;34m(\u001b[0m\u001b[0mX\u001b[0m\u001b[0;34m,\u001b[0m \u001b[0my\u001b[0m\u001b[0;34m,\u001b[0m \u001b[0msample_weight\u001b[0m\u001b[0;34m=\u001b[0m\u001b[0msample_weight\u001b[0m\u001b[0;34m,\u001b[0m \u001b[0mcheck_input\u001b[0m\u001b[0;34m=\u001b[0m\u001b[0;32mFalse\u001b[0m\u001b[0;34m)\u001b[0m\u001b[0;34m\u001b[0m\u001b[0;34m\u001b[0m\u001b[0m\n",
            "\u001b[0;32m/usr/local/lib/python3.7/dist-packages/sklearn/tree/_classes.py\u001b[0m in \u001b[0;36mfit\u001b[0;34m(self, X, y, sample_weight, check_input, X_idx_sorted)\u001b[0m\n\u001b[1;32m    875\u001b[0m             \u001b[0msample_weight\u001b[0m\u001b[0;34m=\u001b[0m\u001b[0msample_weight\u001b[0m\u001b[0;34m,\u001b[0m\u001b[0;34m\u001b[0m\u001b[0;34m\u001b[0m\u001b[0m\n\u001b[1;32m    876\u001b[0m             \u001b[0mcheck_input\u001b[0m\u001b[0;34m=\u001b[0m\u001b[0mcheck_input\u001b[0m\u001b[0;34m,\u001b[0m\u001b[0;34m\u001b[0m\u001b[0;34m\u001b[0m\u001b[0m\n\u001b[0;32m--> 877\u001b[0;31m             X_idx_sorted=X_idx_sorted)\n\u001b[0m\u001b[1;32m    878\u001b[0m         \u001b[0;32mreturn\u001b[0m \u001b[0mself\u001b[0m\u001b[0;34m\u001b[0m\u001b[0;34m\u001b[0m\u001b[0m\n\u001b[1;32m    879\u001b[0m \u001b[0;34m\u001b[0m\u001b[0m\n",
            "\u001b[0;32m/usr/local/lib/python3.7/dist-packages/sklearn/tree/_classes.py\u001b[0m in \u001b[0;36mfit\u001b[0;34m(self, X, y, sample_weight, check_input, X_idx_sorted)\u001b[0m\n\u001b[1;32m    141\u001b[0m             X_idx_sorted=None):\n\u001b[1;32m    142\u001b[0m \u001b[0;34m\u001b[0m\u001b[0m\n\u001b[0;32m--> 143\u001b[0;31m         \u001b[0mrandom_state\u001b[0m \u001b[0;34m=\u001b[0m \u001b[0mcheck_random_state\u001b[0m\u001b[0;34m(\u001b[0m\u001b[0mself\u001b[0m\u001b[0;34m.\u001b[0m\u001b[0mrandom_state\u001b[0m\u001b[0;34m)\u001b[0m\u001b[0;34m\u001b[0m\u001b[0;34m\u001b[0m\u001b[0m\n\u001b[0m\u001b[1;32m    144\u001b[0m \u001b[0;34m\u001b[0m\u001b[0m\n\u001b[1;32m    145\u001b[0m         \u001b[0;32mif\u001b[0m \u001b[0mself\u001b[0m\u001b[0;34m.\u001b[0m\u001b[0mccp_alpha\u001b[0m \u001b[0;34m<\u001b[0m \u001b[0;36m0.0\u001b[0m\u001b[0;34m:\u001b[0m\u001b[0;34m\u001b[0m\u001b[0;34m\u001b[0m\u001b[0m\n",
            "\u001b[0;32m/usr/local/lib/python3.7/dist-packages/sklearn/utils/validation.py\u001b[0m in \u001b[0;36mcheck_random_state\u001b[0;34m(seed)\u001b[0m\n\u001b[1;32m    812\u001b[0m         \u001b[0;32mreturn\u001b[0m \u001b[0mnp\u001b[0m\u001b[0;34m.\u001b[0m\u001b[0mrandom\u001b[0m\u001b[0;34m.\u001b[0m\u001b[0mmtrand\u001b[0m\u001b[0;34m.\u001b[0m\u001b[0m_rand\u001b[0m\u001b[0;34m\u001b[0m\u001b[0;34m\u001b[0m\u001b[0m\n\u001b[1;32m    813\u001b[0m     \u001b[0;32mif\u001b[0m \u001b[0misinstance\u001b[0m\u001b[0;34m(\u001b[0m\u001b[0mseed\u001b[0m\u001b[0;34m,\u001b[0m \u001b[0mnumbers\u001b[0m\u001b[0;34m.\u001b[0m\u001b[0mIntegral\u001b[0m\u001b[0;34m)\u001b[0m\u001b[0;34m:\u001b[0m\u001b[0;34m\u001b[0m\u001b[0;34m\u001b[0m\u001b[0m\n\u001b[0;32m--> 814\u001b[0;31m         \u001b[0;32mreturn\u001b[0m \u001b[0mnp\u001b[0m\u001b[0;34m.\u001b[0m\u001b[0mrandom\u001b[0m\u001b[0;34m.\u001b[0m\u001b[0mRandomState\u001b[0m\u001b[0;34m(\u001b[0m\u001b[0mseed\u001b[0m\u001b[0;34m)\u001b[0m\u001b[0;34m\u001b[0m\u001b[0;34m\u001b[0m\u001b[0m\n\u001b[0m\u001b[1;32m    815\u001b[0m     \u001b[0;32mif\u001b[0m \u001b[0misinstance\u001b[0m\u001b[0;34m(\u001b[0m\u001b[0mseed\u001b[0m\u001b[0;34m,\u001b[0m \u001b[0mnp\u001b[0m\u001b[0;34m.\u001b[0m\u001b[0mrandom\u001b[0m\u001b[0;34m.\u001b[0m\u001b[0mRandomState\u001b[0m\u001b[0;34m)\u001b[0m\u001b[0;34m:\u001b[0m\u001b[0;34m\u001b[0m\u001b[0;34m\u001b[0m\u001b[0m\n\u001b[1;32m    816\u001b[0m         \u001b[0;32mreturn\u001b[0m \u001b[0mseed\u001b[0m\u001b[0;34m\u001b[0m\u001b[0;34m\u001b[0m\u001b[0m\n",
            "\u001b[0;31mKeyboardInterrupt\u001b[0m: "
          ]
        }
      ]
    },
    {
      "cell_type": "code",
      "metadata": {
        "id": "1dMkz-6ZICbv"
      },
      "source": [
        "pred=rfc1.predict(X_test)"
      ],
      "execution_count": null,
      "outputs": []
    },
    {
      "cell_type": "code",
      "metadata": {
        "id": "Iv5vCdwXIPM9"
      },
      "source": [
        "from sklearn.metrics import classification_report, confusion_matrix, accuracy_score\n",
        "result = confusion_matrix(y_test, pred)\n",
        "print(\"Confusion Matrix:\")\n",
        "print(result)\n",
        "result1 = classification_report(y_test, pred, target_names=['Sinyal AS', 'Sinyal MR','Sinyal MS','Sinyal MVP','Sinyal N'])\n",
        "print(\"Classification Report:\",)\n",
        "print (result1)\n",
        "result2 = accuracy_score(y_test,pred)\n",
        "print(\"Accuracy:\",result2)"
      ],
      "execution_count": null,
      "outputs": []
    },
    {
      "cell_type": "code",
      "metadata": {
        "id": "NVKfDbZpIRQE"
      },
      "source": [
        "sensitivity, specificity, accuracy = calculate_sensitivity_specificity(y_test, pred)\n",
        "print ('Sensitivity:', sensitivity)\n",
        "print ('Specificity:', specificity)\n",
        "print ('Accuracy:', accuracy)"
      ],
      "execution_count": null,
      "outputs": []
    }
  ]
}